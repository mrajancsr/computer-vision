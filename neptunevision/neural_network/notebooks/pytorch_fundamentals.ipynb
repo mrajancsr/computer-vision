{
 "cells": [
  {
   "cell_type": "markdown",
   "metadata": {},
   "source": [
    "## Pytorch Fundamentals\n",
    "- I already covered a lot of fundamental topics in __parallelizing_neural_network_with_pytorch.ipynb__\n",
    "- This set of notes is from modern cv with pytorch ch 2\n",
    "- Pytorch uses tensors\n",
    "\n",
    "## Pytorch Tensors\n",
    "- fundamental datatype of PyTorchk.  A tensor is a multi-dimensional matrix similar to numpy's ndarrays\n",
    "- A scalar is a zero dimensioinal tensor\n",
    "- vector is a 1d tensor\n",
    "- matrix is a 2d tensor\n",
    "- multi-dimensional matrix is a multi-dimensional tensor\n",
    "- color image is a 3D tensor of pixel values since color consists of __height * width * num_channels__ given by __num_channels__ = rgb ( hence 3 color channels)\n",
    "- A greyscale is a 2D matrix since it has only one color channel, grey.  "
   ]
  },
  {
   "cell_type": "markdown",
   "metadata": {},
   "source": [
    "## Initializing tensors"
   ]
  },
  {
   "cell_type": "code",
   "execution_count": 1,
   "metadata": {},
   "outputs": [
    {
     "data": {
      "text/plain": [
       "(torch.Size([1, 2]), torch.Size([2, 1]), torch.int64, torch.int64)"
      ]
     },
     "execution_count": 1,
     "metadata": {},
     "output_type": "execute_result"
    }
   ],
   "source": [
    "import torch\n",
    "x = torch.tensor([[1, 2]]) # one row of 2 features\n",
    "y = torch.tensor([[2], [1]]) # two rows one column\n",
    "x.shape, y.shape, x.dtype, y.dtype"
   ]
  },
  {
   "cell_type": "code",
   "execution_count": 2,
   "metadata": {},
   "outputs": [
    {
     "data": {
      "text/plain": [
       "(tensor([0., 1., 2., 1.]), torch.float32)"
      ]
     },
     "execution_count": 2,
     "metadata": {},
     "output_type": "execute_result"
    }
   ],
   "source": [
    "x = torch.tensor([False, 1, 2.0, True])\n",
    "x, x.dtype"
   ]
  },
  {
   "cell_type": "code",
   "execution_count": 3,
   "metadata": {},
   "outputs": [
    {
     "data": {
      "text/plain": [
       "tensor([[0., 0., 0., 0.],\n",
       "        [0., 0., 0., 0.],\n",
       "        [0., 0., 0., 0.]])"
      ]
     },
     "execution_count": 3,
     "metadata": {},
     "output_type": "execute_result"
    }
   ],
   "source": [
    "torch.zeros(3, 4)"
   ]
  },
  {
   "cell_type": "code",
   "execution_count": 4,
   "metadata": {},
   "outputs": [
    {
     "data": {
      "text/plain": [
       "tensor([[1., 1., 1., 1.],\n",
       "        [1., 1., 1., 1.],\n",
       "        [1., 1., 1., 1.],\n",
       "        [1., 1., 1., 1.]])"
      ]
     },
     "execution_count": 4,
     "metadata": {},
     "output_type": "execute_result"
    }
   ],
   "source": [
    "torch.ones(4 ,4)"
   ]
  },
  {
   "cell_type": "code",
   "execution_count": 5,
   "metadata": {},
   "outputs": [
    {
     "data": {
      "text/plain": [
       "tensor([[3, 3, 0, 0],\n",
       "        [3, 0, 0, 2],\n",
       "        [2, 2, 0, 2]])"
      ]
     },
     "execution_count": 5,
     "metadata": {},
     "output_type": "execute_result"
    }
   ],
   "source": [
    "torch.randint(low=0, high=5, size=(3, 4))"
   ]
  },
  {
   "cell_type": "code",
   "execution_count": 6,
   "metadata": {},
   "outputs": [
    {
     "data": {
      "text/plain": [
       "tensor([[ 1.6289,  0.1679, -0.5962,  0.3161],\n",
       "        [ 0.1524,  0.4875, -1.0925,  0.2395],\n",
       "        [ 0.0659, -0.2707,  0.6569, -1.2072]])"
      ]
     },
     "execution_count": 6,
     "metadata": {},
     "output_type": "execute_result"
    }
   ],
   "source": [
    "torch.randn((3, 4))"
   ]
  },
  {
   "cell_type": "markdown",
   "metadata": {},
   "source": [
    "## Operations on Tensors"
   ]
  },
  {
   "cell_type": "code",
   "execution_count": 7,
   "metadata": {},
   "outputs": [
    {
     "name": "stdout",
     "output_type": "stream",
     "text": [
      "tensor([[100, 200, 300, 400],\n",
      "        [500, 600, 700, 800]])\n"
     ]
    }
   ],
   "source": [
    "x = torch.tensor([[10, 20, 30, 40],\n",
    "                 [50, 60, 70, 80]])\n",
    "print(x * 10)"
   ]
  },
  {
   "cell_type": "code",
   "execution_count": 8,
   "metadata": {},
   "outputs": [
    {
     "data": {
      "text/plain": [
       "tensor([[20, 30, 40, 50],\n",
       "        [60, 70, 80, 90]])"
      ]
     },
     "execution_count": 8,
     "metadata": {},
     "output_type": "execute_result"
    }
   ],
   "source": [
    "x + 10"
   ]
  },
  {
   "cell_type": "code",
   "execution_count": 9,
   "metadata": {},
   "outputs": [
    {
     "data": {
      "text/plain": [
       "torch.Size([4])"
      ]
     },
     "execution_count": 9,
     "metadata": {},
     "output_type": "execute_result"
    }
   ],
   "source": [
    "y = torch.tensor([2, 3, 1, 0])\n",
    "y.shape"
   ]
  },
  {
   "cell_type": "code",
   "execution_count": 10,
   "metadata": {},
   "outputs": [
    {
     "data": {
      "text/plain": [
       "torch.Size([4, 1])"
      ]
     },
     "execution_count": 10,
     "metadata": {},
     "output_type": "execute_result"
    }
   ],
   "source": [
    "y = y.view(4, 1)\n",
    "y.shape"
   ]
  },
  {
   "cell_type": "code",
   "execution_count": 11,
   "metadata": {},
   "outputs": [
    {
     "data": {
      "text/plain": [
       "tensor([[[ 3.0531e-01,  3.0537e-01, -1.8015e-01,  1.4993e-01, -1.7693e-01,\n",
       "          -1.2766e+00, -1.4662e-01,  9.8684e-01,  3.5664e-02, -7.7442e-01]],\n",
       "\n",
       "        [[-1.9428e-01,  9.2161e-01, -3.3629e-01, -3.1312e-01,  6.9100e-02,\n",
       "          -1.3668e+00, -7.8558e-01,  4.8046e-02,  8.2628e-01, -3.8214e-01]],\n",
       "\n",
       "        [[ 1.1255e+00, -1.4526e+00,  1.1559e-01,  4.4359e-01,  1.4262e+00,\n",
       "           2.1388e+00,  1.1839e+00,  3.8562e-01,  7.3733e-01, -7.5893e-01]],\n",
       "\n",
       "        [[-2.0534e-01,  1.1538e-01, -1.0290e-02, -6.1636e-01, -1.3495e+00,\n",
       "          -5.0421e-01, -1.0110e-01, -6.0544e-01,  1.3207e+00,  6.3103e-01]],\n",
       "\n",
       "        [[-5.5977e-01, -1.1427e+00,  1.0405e+00, -1.2659e+00, -1.4295e+00,\n",
       "          -2.9663e-01, -1.4662e+00,  1.8511e+00,  2.9650e-01,  3.2408e+00]],\n",
       "\n",
       "        [[-1.0242e+00, -3.6034e-02, -1.1601e-01, -1.3110e+00, -1.0919e+00,\n",
       "          -9.2466e-02,  9.7545e-01,  3.0706e-04,  9.6468e-02,  1.9627e-01]],\n",
       "\n",
       "        [[-1.1206e+00,  2.9547e+00,  1.0088e+00,  1.4643e+00,  2.4969e-01,\n",
       "          -4.1663e-01,  9.9749e-02, -1.6016e-01, -6.4719e-01, -6.8198e-02]],\n",
       "\n",
       "        [[-6.0297e-01,  4.6540e-01,  3.9122e-01,  5.7357e-02,  1.0917e+00,\n",
       "          -4.2797e-01,  2.6902e+00, -1.6281e+00,  4.9518e-01, -1.1397e+00]],\n",
       "\n",
       "        [[-8.9010e-01,  1.1936e+00,  6.4500e-01, -1.2340e+00, -1.4829e+00,\n",
       "           2.4267e-01,  2.0820e-01,  5.4843e-01, -9.8133e-01, -2.7223e-01]],\n",
       "\n",
       "        [[ 1.5758e+00, -8.6905e-01,  1.4854e+00, -1.1702e+00, -3.7229e-01,\n",
       "          -3.7484e-02,  2.3552e+00, -3.0107e-01,  3.6743e-01, -1.2505e+00]]])"
      ]
     },
     "execution_count": 11,
     "metadata": {},
     "output_type": "execute_result"
    }
   ],
   "source": [
    "x = torch.randn(10, 1, 10)\n",
    "x"
   ]
  },
  {
   "cell_type": "code",
   "execution_count": 12,
   "metadata": {},
   "outputs": [
    {
     "data": {
      "text/plain": [
       "torch.Size([10, 1, 10])"
      ]
     },
     "execution_count": 12,
     "metadata": {},
     "output_type": "execute_result"
    }
   ],
   "source": [
    "x.shape"
   ]
  },
  {
   "cell_type": "code",
   "execution_count": 13,
   "metadata": {},
   "outputs": [],
   "source": [
    "x = torch.squeeze(x, 1)"
   ]
  },
  {
   "cell_type": "code",
   "execution_count": 14,
   "metadata": {},
   "outputs": [
    {
     "data": {
      "text/plain": [
       "tensor([[ 3.0531e-01,  3.0537e-01, -1.8015e-01,  1.4993e-01, -1.7693e-01,\n",
       "         -1.2766e+00, -1.4662e-01,  9.8684e-01,  3.5664e-02, -7.7442e-01],\n",
       "        [-1.9428e-01,  9.2161e-01, -3.3629e-01, -3.1312e-01,  6.9100e-02,\n",
       "         -1.3668e+00, -7.8558e-01,  4.8046e-02,  8.2628e-01, -3.8214e-01],\n",
       "        [ 1.1255e+00, -1.4526e+00,  1.1559e-01,  4.4359e-01,  1.4262e+00,\n",
       "          2.1388e+00,  1.1839e+00,  3.8562e-01,  7.3733e-01, -7.5893e-01],\n",
       "        [-2.0534e-01,  1.1538e-01, -1.0290e-02, -6.1636e-01, -1.3495e+00,\n",
       "         -5.0421e-01, -1.0110e-01, -6.0544e-01,  1.3207e+00,  6.3103e-01],\n",
       "        [-5.5977e-01, -1.1427e+00,  1.0405e+00, -1.2659e+00, -1.4295e+00,\n",
       "         -2.9663e-01, -1.4662e+00,  1.8511e+00,  2.9650e-01,  3.2408e+00],\n",
       "        [-1.0242e+00, -3.6034e-02, -1.1601e-01, -1.3110e+00, -1.0919e+00,\n",
       "         -9.2466e-02,  9.7545e-01,  3.0706e-04,  9.6468e-02,  1.9627e-01],\n",
       "        [-1.1206e+00,  2.9547e+00,  1.0088e+00,  1.4643e+00,  2.4969e-01,\n",
       "         -4.1663e-01,  9.9749e-02, -1.6016e-01, -6.4719e-01, -6.8198e-02],\n",
       "        [-6.0297e-01,  4.6540e-01,  3.9122e-01,  5.7357e-02,  1.0917e+00,\n",
       "         -4.2797e-01,  2.6902e+00, -1.6281e+00,  4.9518e-01, -1.1397e+00],\n",
       "        [-8.9010e-01,  1.1936e+00,  6.4500e-01, -1.2340e+00, -1.4829e+00,\n",
       "          2.4267e-01,  2.0820e-01,  5.4843e-01, -9.8133e-01, -2.7223e-01],\n",
       "        [ 1.5758e+00, -8.6905e-01,  1.4854e+00, -1.1702e+00, -3.7229e-01,\n",
       "         -3.7484e-02,  2.3552e+00, -3.0107e-01,  3.6743e-01, -1.2505e+00]])"
      ]
     },
     "execution_count": 14,
     "metadata": {},
     "output_type": "execute_result"
    }
   ],
   "source": [
    "x"
   ]
  },
  {
   "cell_type": "code",
   "execution_count": 15,
   "metadata": {},
   "outputs": [
    {
     "data": {
      "text/plain": [
       "torch.Size([10, 10])"
      ]
     },
     "execution_count": 15,
     "metadata": {},
     "output_type": "execute_result"
    }
   ],
   "source": [
    "x.shape"
   ]
  },
  {
   "cell_type": "code",
   "execution_count": 16,
   "metadata": {},
   "outputs": [
    {
     "data": {
      "text/plain": [
       "tensor([[[ 3.0531e-01,  3.0537e-01, -1.8015e-01,  1.4993e-01, -1.7693e-01,\n",
       "          -1.2766e+00, -1.4662e-01,  9.8684e-01,  3.5664e-02, -7.7442e-01]],\n",
       "\n",
       "        [[-1.9428e-01,  9.2161e-01, -3.3629e-01, -3.1312e-01,  6.9100e-02,\n",
       "          -1.3668e+00, -7.8558e-01,  4.8046e-02,  8.2628e-01, -3.8214e-01]],\n",
       "\n",
       "        [[ 1.1255e+00, -1.4526e+00,  1.1559e-01,  4.4359e-01,  1.4262e+00,\n",
       "           2.1388e+00,  1.1839e+00,  3.8562e-01,  7.3733e-01, -7.5893e-01]],\n",
       "\n",
       "        [[-2.0534e-01,  1.1538e-01, -1.0290e-02, -6.1636e-01, -1.3495e+00,\n",
       "          -5.0421e-01, -1.0110e-01, -6.0544e-01,  1.3207e+00,  6.3103e-01]],\n",
       "\n",
       "        [[-5.5977e-01, -1.1427e+00,  1.0405e+00, -1.2659e+00, -1.4295e+00,\n",
       "          -2.9663e-01, -1.4662e+00,  1.8511e+00,  2.9650e-01,  3.2408e+00]],\n",
       "\n",
       "        [[-1.0242e+00, -3.6034e-02, -1.1601e-01, -1.3110e+00, -1.0919e+00,\n",
       "          -9.2466e-02,  9.7545e-01,  3.0706e-04,  9.6468e-02,  1.9627e-01]],\n",
       "\n",
       "        [[-1.1206e+00,  2.9547e+00,  1.0088e+00,  1.4643e+00,  2.4969e-01,\n",
       "          -4.1663e-01,  9.9749e-02, -1.6016e-01, -6.4719e-01, -6.8198e-02]],\n",
       "\n",
       "        [[-6.0297e-01,  4.6540e-01,  3.9122e-01,  5.7357e-02,  1.0917e+00,\n",
       "          -4.2797e-01,  2.6902e+00, -1.6281e+00,  4.9518e-01, -1.1397e+00]],\n",
       "\n",
       "        [[-8.9010e-01,  1.1936e+00,  6.4500e-01, -1.2340e+00, -1.4829e+00,\n",
       "           2.4267e-01,  2.0820e-01,  5.4843e-01, -9.8133e-01, -2.7223e-01]],\n",
       "\n",
       "        [[ 1.5758e+00, -8.6905e-01,  1.4854e+00, -1.1702e+00, -3.7229e-01,\n",
       "          -3.7484e-02,  2.3552e+00, -3.0107e-01,  3.6743e-01, -1.2505e+00]]])"
      ]
     },
     "execution_count": 16,
     "metadata": {},
     "output_type": "execute_result"
    }
   ],
   "source": [
    "x[:, None]"
   ]
  },
  {
   "cell_type": "code",
   "execution_count": 17,
   "metadata": {},
   "outputs": [
    {
     "data": {
      "text/plain": [
       "tensor([[[ 3.0531e-01,  3.0537e-01, -1.8015e-01,  1.4993e-01, -1.7693e-01,\n",
       "          -1.2766e+00, -1.4662e-01,  9.8684e-01,  3.5664e-02, -7.7442e-01],\n",
       "         [-1.9428e-01,  9.2161e-01, -3.3629e-01, -3.1312e-01,  6.9100e-02,\n",
       "          -1.3668e+00, -7.8558e-01,  4.8046e-02,  8.2628e-01, -3.8214e-01],\n",
       "         [ 1.1255e+00, -1.4526e+00,  1.1559e-01,  4.4359e-01,  1.4262e+00,\n",
       "           2.1388e+00,  1.1839e+00,  3.8562e-01,  7.3733e-01, -7.5893e-01],\n",
       "         [-2.0534e-01,  1.1538e-01, -1.0290e-02, -6.1636e-01, -1.3495e+00,\n",
       "          -5.0421e-01, -1.0110e-01, -6.0544e-01,  1.3207e+00,  6.3103e-01],\n",
       "         [-5.5977e-01, -1.1427e+00,  1.0405e+00, -1.2659e+00, -1.4295e+00,\n",
       "          -2.9663e-01, -1.4662e+00,  1.8511e+00,  2.9650e-01,  3.2408e+00],\n",
       "         [-1.0242e+00, -3.6034e-02, -1.1601e-01, -1.3110e+00, -1.0919e+00,\n",
       "          -9.2466e-02,  9.7545e-01,  3.0706e-04,  9.6468e-02,  1.9627e-01],\n",
       "         [-1.1206e+00,  2.9547e+00,  1.0088e+00,  1.4643e+00,  2.4969e-01,\n",
       "          -4.1663e-01,  9.9749e-02, -1.6016e-01, -6.4719e-01, -6.8198e-02],\n",
       "         [-6.0297e-01,  4.6540e-01,  3.9122e-01,  5.7357e-02,  1.0917e+00,\n",
       "          -4.2797e-01,  2.6902e+00, -1.6281e+00,  4.9518e-01, -1.1397e+00],\n",
       "         [-8.9010e-01,  1.1936e+00,  6.4500e-01, -1.2340e+00, -1.4829e+00,\n",
       "           2.4267e-01,  2.0820e-01,  5.4843e-01, -9.8133e-01, -2.7223e-01],\n",
       "         [ 1.5758e+00, -8.6905e-01,  1.4854e+00, -1.1702e+00, -3.7229e-01,\n",
       "          -3.7484e-02,  2.3552e+00, -3.0107e-01,  3.6743e-01, -1.2505e+00]]])"
      ]
     },
     "execution_count": 17,
     "metadata": {},
     "output_type": "execute_result"
    }
   ],
   "source": [
    "x[None]"
   ]
  },
  {
   "cell_type": "code",
   "execution_count": 18,
   "metadata": {},
   "outputs": [
    {
     "data": {
      "text/plain": [
       "tensor([[[ 3.0531e-01],\n",
       "         [ 3.0537e-01],\n",
       "         [-1.8015e-01],\n",
       "         [ 1.4993e-01],\n",
       "         [-1.7693e-01],\n",
       "         [-1.2766e+00],\n",
       "         [-1.4662e-01],\n",
       "         [ 9.8684e-01],\n",
       "         [ 3.5664e-02],\n",
       "         [-7.7442e-01]],\n",
       "\n",
       "        [[-1.9428e-01],\n",
       "         [ 9.2161e-01],\n",
       "         [-3.3629e-01],\n",
       "         [-3.1312e-01],\n",
       "         [ 6.9100e-02],\n",
       "         [-1.3668e+00],\n",
       "         [-7.8558e-01],\n",
       "         [ 4.8046e-02],\n",
       "         [ 8.2628e-01],\n",
       "         [-3.8214e-01]],\n",
       "\n",
       "        [[ 1.1255e+00],\n",
       "         [-1.4526e+00],\n",
       "         [ 1.1559e-01],\n",
       "         [ 4.4359e-01],\n",
       "         [ 1.4262e+00],\n",
       "         [ 2.1388e+00],\n",
       "         [ 1.1839e+00],\n",
       "         [ 3.8562e-01],\n",
       "         [ 7.3733e-01],\n",
       "         [-7.5893e-01]],\n",
       "\n",
       "        [[-2.0534e-01],\n",
       "         [ 1.1538e-01],\n",
       "         [-1.0290e-02],\n",
       "         [-6.1636e-01],\n",
       "         [-1.3495e+00],\n",
       "         [-5.0421e-01],\n",
       "         [-1.0110e-01],\n",
       "         [-6.0544e-01],\n",
       "         [ 1.3207e+00],\n",
       "         [ 6.3103e-01]],\n",
       "\n",
       "        [[-5.5977e-01],\n",
       "         [-1.1427e+00],\n",
       "         [ 1.0405e+00],\n",
       "         [-1.2659e+00],\n",
       "         [-1.4295e+00],\n",
       "         [-2.9663e-01],\n",
       "         [-1.4662e+00],\n",
       "         [ 1.8511e+00],\n",
       "         [ 2.9650e-01],\n",
       "         [ 3.2408e+00]],\n",
       "\n",
       "        [[-1.0242e+00],\n",
       "         [-3.6034e-02],\n",
       "         [-1.1601e-01],\n",
       "         [-1.3110e+00],\n",
       "         [-1.0919e+00],\n",
       "         [-9.2466e-02],\n",
       "         [ 9.7545e-01],\n",
       "         [ 3.0706e-04],\n",
       "         [ 9.6468e-02],\n",
       "         [ 1.9627e-01]],\n",
       "\n",
       "        [[-1.1206e+00],\n",
       "         [ 2.9547e+00],\n",
       "         [ 1.0088e+00],\n",
       "         [ 1.4643e+00],\n",
       "         [ 2.4969e-01],\n",
       "         [-4.1663e-01],\n",
       "         [ 9.9749e-02],\n",
       "         [-1.6016e-01],\n",
       "         [-6.4719e-01],\n",
       "         [-6.8198e-02]],\n",
       "\n",
       "        [[-6.0297e-01],\n",
       "         [ 4.6540e-01],\n",
       "         [ 3.9122e-01],\n",
       "         [ 5.7357e-02],\n",
       "         [ 1.0917e+00],\n",
       "         [-4.2797e-01],\n",
       "         [ 2.6902e+00],\n",
       "         [-1.6281e+00],\n",
       "         [ 4.9518e-01],\n",
       "         [-1.1397e+00]],\n",
       "\n",
       "        [[-8.9010e-01],\n",
       "         [ 1.1936e+00],\n",
       "         [ 6.4500e-01],\n",
       "         [-1.2340e+00],\n",
       "         [-1.4829e+00],\n",
       "         [ 2.4267e-01],\n",
       "         [ 2.0820e-01],\n",
       "         [ 5.4843e-01],\n",
       "         [-9.8133e-01],\n",
       "         [-2.7223e-01]],\n",
       "\n",
       "        [[ 1.5758e+00],\n",
       "         [-8.6905e-01],\n",
       "         [ 1.4854e+00],\n",
       "         [-1.1702e+00],\n",
       "         [-3.7229e-01],\n",
       "         [-3.7484e-02],\n",
       "         [ 2.3552e+00],\n",
       "         [-3.0107e-01],\n",
       "         [ 3.6743e-01],\n",
       "         [-1.2505e+00]]])"
      ]
     },
     "execution_count": 18,
     "metadata": {},
     "output_type": "execute_result"
    }
   ],
   "source": [
    "x[:, :, None]"
   ]
  },
  {
   "cell_type": "code",
   "execution_count": 19,
   "metadata": {},
   "outputs": [
    {
     "data": {
      "text/plain": [
       "tensor([[ 0,  1,  2,  3,  4],\n",
       "        [ 5,  6,  7,  8,  9],\n",
       "        [10, 11, 12, 13, 14],\n",
       "        [15, 16, 17, 18, 19],\n",
       "        [20, 21, 22, 23, 24]])"
      ]
     },
     "execution_count": 19,
     "metadata": {},
     "output_type": "execute_result"
    }
   ],
   "source": [
    "x = torch.arange(25).reshape(5, 5)\n",
    "x"
   ]
  },
  {
   "cell_type": "code",
   "execution_count": 20,
   "metadata": {},
   "outputs": [
    {
     "data": {
      "text/plain": [
       "tensor(24)"
      ]
     },
     "execution_count": 20,
     "metadata": {},
     "output_type": "execute_result"
    }
   ],
   "source": [
    "x.max()"
   ]
  },
  {
   "cell_type": "code",
   "execution_count": 21,
   "metadata": {},
   "outputs": [
    {
     "data": {
      "text/plain": [
       "torch.return_types.max(\n",
       "values=tensor([20, 21, 22, 23, 24]),\n",
       "indices=tensor([4, 4, 4, 4, 4]))"
      ]
     },
     "execution_count": 21,
     "metadata": {},
     "output_type": "execute_result"
    }
   ],
   "source": [
    "x.max(dim=0)"
   ]
  },
  {
   "cell_type": "code",
   "execution_count": 22,
   "metadata": {},
   "outputs": [
    {
     "data": {
      "text/plain": [
       "torch.return_types.max(\n",
       "values=tensor([ 4,  9, 14, 19, 24]),\n",
       "indices=tensor([4, 4, 4, 4, 4]))"
      ]
     },
     "execution_count": 22,
     "metadata": {},
     "output_type": "execute_result"
    }
   ],
   "source": [
    "x.max(dim=1)"
   ]
  },
  {
   "cell_type": "markdown",
   "metadata": {},
   "source": [
    "## Auto gradients of tensor objects\n",
    "- pytorch's tensor objects come with built in functionality to calculate gradients\n",
    "\n",
    "$out = \\sum_{i=1}^4 x^2$\n",
    "\n",
    "Derivative of above is 2x\n"
   ]
  },
  {
   "cell_type": "code",
   "execution_count": 23,
   "metadata": {},
   "outputs": [],
   "source": [
    "x = torch.tensor([[2., -1.], [1., 1.]], requires_grad=True)\n",
    "# can also use x.requires_grad_()\n",
    "out = x.pow(2).sum()\n",
    "out.backward() # compute gradient\n",
    "\n"
   ]
  },
  {
   "cell_type": "code",
   "execution_count": 24,
   "metadata": {},
   "outputs": [
    {
     "data": {
      "text/plain": [
       "tensor([[ 4., -2.],\n",
       "        [ 2.,  2.]])"
      ]
     },
     "execution_count": 24,
     "metadata": {},
     "output_type": "execute_result"
    }
   ],
   "source": [
    "x.grad"
   ]
  },
  {
   "cell_type": "markdown",
   "metadata": {},
   "source": [
    "## Advantages of Pytorch\n",
    "- When calculating optimal weight values, we vary each weight by a small amount and understand the impact on reducing the overall loss value.  \n",
    "- Loss value is bvased on weight update of one weight does not impact the loss calculation based on weight update of other weights in same iteration\n",
    "- So process can be optimized if each weight update is being made by a different core in parallel instead of updating weights sequentially.  Hence a GPU comes in handy here as it consists of thousands of cores when compared to CPU\n",
    "- pytorch is optimized to run with gpu\n",
    "- look at the other lecture of advantages of using a GPU vs CPU\n"
   ]
  },
  {
   "cell_type": "markdown",
   "metadata": {},
   "source": [
    "## Building a Neural Network with Pytorch\n",
    "- Components of a neural network are as follows:\n",
    "   - number of hidden layers\n",
    "   - number of units per hidden layers\n",
    "   - activation functions performed at various layers\n",
    "   - loss function we need to optimize for\n",
    "   - learning rate associated with neural network\n",
    "   - batch size of data leveraged to build neural network\n",
    "   - number of epochs (pass over training set) of forward and backward propagation\n",
    "\n",
    "- We will use a toy dataset first"
   ]
  },
  {
   "cell_type": "code",
   "execution_count": 51,
   "metadata": {},
   "outputs": [],
   "source": [
    "import torch.nn as nn\n",
    "from torch.utils.data import DataLoader, Dataset, TensorDataset\n",
    "x = torch.tensor([[1, 2], [3,4], [5, 6], [7, 8]]).float().to(\"mps\")\n",
    "y = torch.tensor([[3], [7], [11], [15]]).float().to(\"mps\")\n"
   ]
  },
  {
   "cell_type": "markdown",
   "metadata": {},
   "source": [
    "- Note that below there are two layers, layer1 connects input to hidden layer, activation of hidden layer's output is given by ReLU, and then connecting output of activation function to output layer"
   ]
  },
  {
   "cell_type": "code",
   "execution_count": 26,
   "metadata": {},
   "outputs": [],
   "source": [
    "class SampleNeuralNet(nn.Module):\n",
    "    def __init__(self, input_size, hidden_size, output_size):\n",
    "        super().__init__()\n",
    "        self.layer1 = nn.Linear(input_size, hidden_size)\n",
    "        self.activation = nn.ReLU()\n",
    "        self.layer2 = nn.Linear(hidden_size, output_size)\n",
    "\n",
    "    def forward(self, x):\n",
    "        h = self.layer1(x) # take input and compute the hidden layer\n",
    "        a = self.activation(h) # take the hidden layer and compute the activation\n",
    "        o = self.layer2(a) # tale input from activation and compute outputs\n",
    "        return o"
   ]
  },
  {
   "cell_type": "code",
   "execution_count": 35,
   "metadata": {},
   "outputs": [],
   "source": [
    "input_size = x.shape[1]\n",
    "hidden_size = 8\n",
    "output_size = 1\n",
    "snn = SampleNeuralNet(input_size, hidden_size, output_size).to('mps')"
   ]
  },
  {
   "cell_type": "code",
   "execution_count": 36,
   "metadata": {},
   "outputs": [
    {
     "data": {
      "text/plain": [
       "Linear(in_features=2, out_features=8, bias=True)"
      ]
     },
     "execution_count": 36,
     "metadata": {},
     "output_type": "execute_result"
    }
   ],
   "source": [
    "\n",
    "snn.layer1"
   ]
  },
  {
   "cell_type": "markdown",
   "metadata": {},
   "source": [
    "- the first hidden layer takes two features as input and outputs 8 values and has a bias parameter associated with it\n",
    "- to check the weight initialized (random weight) by pytorch, use the paramter weight of the layer\n",
    "- below shows all the parameters for all the layers"
   ]
  },
  {
   "cell_type": "code",
   "execution_count": 37,
   "metadata": {},
   "outputs": [
    {
     "data": {
      "text/plain": [
       "Parameter containing:\n",
       "tensor([[ 0.5107, -0.0827],\n",
       "        [-0.6632, -0.0304],\n",
       "        [ 0.6161,  0.5186],\n",
       "        [-0.2782, -0.2003],\n",
       "        [-0.6205,  0.5859],\n",
       "        [-0.1176, -0.0956],\n",
       "        [ 0.3858, -0.5114],\n",
       "        [ 0.6774,  0.0178]], device='mps:0', requires_grad=True)"
      ]
     },
     "execution_count": 37,
     "metadata": {},
     "output_type": "execute_result"
    }
   ],
   "source": [
    "# weight from input layer to hidden layer and bias is below\n",
    "snn.layer1.weight"
   ]
  },
  {
   "cell_type": "code",
   "execution_count": 38,
   "metadata": {},
   "outputs": [
    {
     "data": {
      "text/plain": [
       "Parameter containing:\n",
       "tensor([-0.5872,  0.1064,  0.5251,  0.5757, -0.5688,  0.6004, -0.5702, -0.3819],\n",
       "       device='mps:0', requires_grad=True)"
      ]
     },
     "execution_count": 38,
     "metadata": {},
     "output_type": "execute_result"
    }
   ],
   "source": [
    "snn.layer1.bias"
   ]
  },
  {
   "cell_type": "code",
   "execution_count": 39,
   "metadata": {},
   "outputs": [
    {
     "data": {
      "text/plain": [
       "Parameter containing:\n",
       "tensor([[-0.0034, -0.2564,  0.3221,  0.2027, -0.2385, -0.2987,  0.2864, -0.3109]],\n",
       "       device='mps:0', requires_grad=True)"
      ]
     },
     "execution_count": 39,
     "metadata": {},
     "output_type": "execute_result"
    }
   ],
   "source": [
    "# weight from hidden to output layer\n",
    "snn.layer2.weight"
   ]
  },
  {
   "cell_type": "code",
   "execution_count": 40,
   "metadata": {},
   "outputs": [
    {
     "name": "stdout",
     "output_type": "stream",
     "text": [
      "Parameter containing:\n",
      "tensor([[ 0.5107, -0.0827],\n",
      "        [-0.6632, -0.0304],\n",
      "        [ 0.6161,  0.5186],\n",
      "        [-0.2782, -0.2003],\n",
      "        [-0.6205,  0.5859],\n",
      "        [-0.1176, -0.0956],\n",
      "        [ 0.3858, -0.5114],\n",
      "        [ 0.6774,  0.0178]], device='mps:0', requires_grad=True)\n",
      "Parameter containing:\n",
      "tensor([-0.5872,  0.1064,  0.5251,  0.5757, -0.5688,  0.6004, -0.5702, -0.3819],\n",
      "       device='mps:0', requires_grad=True)\n",
      "Parameter containing:\n",
      "tensor([[-0.0034, -0.2564,  0.3221,  0.2027, -0.2385, -0.2987,  0.2864, -0.3109]],\n",
      "       device='mps:0', requires_grad=True)\n",
      "Parameter containing:\n",
      "tensor([0.2241], device='mps:0', requires_grad=True)\n"
     ]
    }
   ],
   "source": [
    "# print all parameters for all layers\n",
    "for parameter in snn.parameters():\n",
    "    print(parameter)"
   ]
  },
  {
   "cell_type": "markdown",
   "metadata": {},
   "source": [
    "- the model has registered these tensors as special objects that are necessary for keeping track of forward and backward prop.  \n",
    "- when defining any nn layers in the __init__ method, it will automatically create corresponding tensors and simultaneously register them\n",
    "- you can also manually register these parameters using nn.Parameter(tensor)\n",
    "- Following code is equivalent to what we just defined for pytorch class above"
   ]
  },
  {
   "cell_type": "code",
   "execution_count": 41,
   "metadata": {},
   "outputs": [],
   "source": [
    "class ModifiedSampleNeuralNet(nn.Module):\n",
    "    def __init__(self, input_size, hidden_size, output_size):\n",
    "        super().__init__()\n",
    "        self.layer1 = nn.Parameter(torch.rand(input_size, hidden_size))\n",
    "        self.activation = nn.ReLU()\n",
    "        self.layer2 = nn.Parameter(torch.rand(hidden_size, output_size))\n",
    "\n",
    "    def forward(self, x):\n",
    "        h = x @ self.layer1 # take input and compute the hidden layer\n",
    "        a = self.activation(h) # take the hidden layer and compute the activation\n",
    "        o = x @ a # tale input from activation and compute outputs\n",
    "        return o"
   ]
  },
  {
   "cell_type": "code",
   "execution_count": 42,
   "metadata": {},
   "outputs": [],
   "source": [
    "learning_rate = 0.001\n",
    "# since prediction is continuous, use MSELoss\n",
    "loss_fn = nn.MSELoss()\n",
    "optimizer = torch.optim.SGD(snn.parameters(), lr=learning_rate)"
   ]
  },
  {
   "cell_type": "markdown",
   "metadata": {},
   "source": [
    "- Perform all the steps to be done in each epoch together\n",
    "    - Calculate loss value corresponding to given input and output\n",
    "    - calculate the gradient corresponding to each parameter\n",
    "    - update weights based on learning rate and gradient of each parameter\n",
    "    - once the weight is updated, ensure gradients that have been calculated in previous step are flushed before computing gradient for next epoch"
   ]
  },
  {
   "cell_type": "code",
   "execution_count": 43,
   "metadata": {},
   "outputs": [
    {
     "data": {
      "text/plain": [
       "tensor([[1., 2.],\n",
       "        [3., 4.],\n",
       "        [5., 6.],\n",
       "        [7., 8.]], device='mps:0')"
      ]
     },
     "execution_count": 43,
     "metadata": {},
     "output_type": "execute_result"
    }
   ],
   "source": [
    "x"
   ]
  },
  {
   "cell_type": "code",
   "execution_count": 44,
   "metadata": {},
   "outputs": [
    {
     "name": "stdout",
     "output_type": "stream",
     "text": [
      "tensor(77.0401, device='mps:0', grad_fn=<MseLossBackward0>)\n"
     ]
    }
   ],
   "source": [
    "pred = snn(x)\n",
    "loss = loss_fn(pred, y)\n",
    "print(loss)"
   ]
  },
  {
   "cell_type": "code",
   "execution_count": 45,
   "metadata": {},
   "outputs": [
    {
     "data": {
      "text/plain": [
       "tensor([[0.7358],\n",
       "        [1.1196],\n",
       "        [1.4154],\n",
       "        [1.7113]], device='mps:0', grad_fn=<LinearBackward0>)"
      ]
     },
     "execution_count": 45,
     "metadata": {},
     "output_type": "execute_result"
    }
   ],
   "source": [
    "pred"
   ]
  },
  {
   "cell_type": "markdown",
   "metadata": {},
   "source": [
    "- When calculating loss, first parameter is always the prediction by PyTorch convention\n",
    "- Perform the following steps for each epoch:\n",
    "    - calculate loss value corresponding to given input and output\n",
    "    - calculate the gradient corresponding to each parameter\n",
    "    - update weights based on learning rate and gradient of each parameter\n",
    "    - once weight is updated, ensure that the gradients that have been calculated in previous steps is flushed out before calculating gradient for next epoch\n",
    "    - For each epoch, do:\n",
    "        - optimizer.zero_grad() # flush the previou's epoch's gradient\n",
    "        - calculate prediction __pred__\n",
    "        - loss = loss_func(pred, y)\n",
    "        - loss.backward() # perform back prop\n",
    "        - optimizer.step() update weights according ot gradients computed"
   ]
  },
  {
   "cell_type": "code",
   "execution_count": 46,
   "metadata": {},
   "outputs": [],
   "source": [
    "n_epochs = 50\n",
    "loss_history = []\n",
    "for _ in range(n_epochs):\n",
    "    # reset gradient to zero\n",
    "    optimizer.zero_grad()\n",
    "    # generate prediction\n",
    "    pred = snn(x)\n",
    "    # calculate the loss\n",
    "    loss = loss_fn(pred, y)\n",
    "    # perform back prop\n",
    "    loss.backward()\n",
    "    # update weights\n",
    "    optimizer.step()\n",
    "    loss_history.append(loss)"
   ]
  },
  {
   "cell_type": "code",
   "execution_count": 49,
   "metadata": {},
   "outputs": [
    {
     "data": {
      "image/png": "[encoded data removed]",
      "text/plain": [
       "<Figure size 640x480 with 1 Axes>"
      ]
     },
     "metadata": {},
     "output_type": "display_data"
    }
   ],
   "source": [
    "import matplotlib.pyplot as plt\n",
    "plt.plot([item.cpu().item() for item in loss_history])\n",
    "plt.xlabel(\"epochs\");\n",
    "plt.ylabel(\"loss value\")\n",
    "plt.title(\"Loss Variation over increasing epochs\")\n",
    "plt.grid();\n",
    "plt.tight_layout()"
   ]
  },
  {
   "cell_type": "markdown",
   "metadata": {},
   "source": [
    "- expected loss decreases over increasing epochs\n",
    "- so far, we calculatedd teh loss based on all examples.  A Better way is to batch the examples and calculate the loss in the particular batch and then update the weights\n",
    "\n",
    "## Dataset, DataLoader and batch size\n",
    "- hyperparameter in neural network that is very important is batch size which is the number of examples to be considered to calculate weight update\n",
    "- this is useful when we have millions of datapoints and using all of them to calculate the weight update is not optimial as memory is not available to hold so much info\n",
    "- batching can be considered as a subsampling method where each sample is a subset of entire population.  Essentially, we are subsampling without replacement"
   ]
  },
  {
   "cell_type": "code",
   "execution_count": 50,
   "metadata": {},
   "outputs": [
    {
     "data": {
      "text/plain": [
       "tensor([[1., 2.],\n",
       "        [3., 4.],\n",
       "        [5., 6.],\n",
       "        [7., 8.]], device='mps:0')"
      ]
     },
     "execution_count": 50,
     "metadata": {},
     "output_type": "execute_result"
    }
   ],
   "source": [
    "x"
   ]
  },
  {
   "cell_type": "code",
   "execution_count": 60,
   "metadata": {},
   "outputs": [
    {
     "name": "stdout",
     "output_type": "stream",
     "text": [
      "tensor([1., 2.], device='mps:0') tensor([3.], device='mps:0')\n",
      "tensor([3., 4.], device='mps:0') tensor([7.], device='mps:0')\n",
      "tensor([5., 6.], device='mps:0') tensor([11.], device='mps:0')\n",
      "tensor([7., 8.], device='mps:0') tensor([15.], device='mps:0')\n"
     ]
    }
   ],
   "source": [
    "\n",
    "class JointDataset(Dataset):\n",
    "    def __init__(self, x, y):\n",
    "        self.x = x\n",
    "        self.y = y\n",
    "    \n",
    "    def __len__(self):\n",
    "        return len(self.x)\n",
    "    \n",
    "    def __getitem__(self, idx):\n",
    "        return self.x[idx], self.y[idx]\n",
    "\n",
    "train_ds = JointDataset(x, y)\n",
    "for example in train_ds:\n",
    "    print(example[0], example[1])"
   ]
  },
  {
   "cell_type": "code",
   "execution_count": 74,
   "metadata": {},
   "outputs": [
    {
     "name": "stdout",
     "output_type": "stream",
     "text": [
      "batch 1: x: tensor([[5., 6.],\n",
      "        [1., 2.]], device='mps:0') y: tensor([[11.],\n",
      "        [ 3.]], device='mps:0')\n",
      "batch 2: x: tensor([[3., 4.],\n",
      "        [7., 8.]], device='mps:0') y: tensor([[ 7.],\n",
      "        [15.]], device='mps:0')\n"
     ]
    }
   ],
   "source": [
    "\n",
    "data_loader = DataLoader(dataset=train_ds, batch_size=2, shuffle=True)\n",
    "for i, batch in enumerate(data_loader, 1):\n",
    "    print(f\"batch {i}:\", 'x:', batch[0], 'y:', batch[1])"
   ]
  },
  {
   "cell_type": "code",
   "execution_count": 90,
   "metadata": {},
   "outputs": [
    {
     "name": "stdout",
     "output_type": "stream",
     "text": [
      "Epoch 0  Loss 90.0596\n",
      "Epoch 5  Loss 1.0736\n",
      "Epoch 10  Loss 0.0389\n",
      "Epoch 15  Loss 0.0097\n",
      "Epoch 20  Loss 0.0073\n",
      "Epoch 25  Loss 0.0081\n",
      "Epoch 30  Loss 0.0273\n",
      "Epoch 35  Loss 0.0227\n",
      "Epoch 40  Loss 0.0065\n",
      "Epoch 45  Loss 0.0064\n"
     ]
    }
   ],
   "source": [
    "input_size = x.shape[1]\n",
    "hidden_size = 8\n",
    "output_size = 1\n",
    "snn = SampleNeuralNet(input_size, hidden_size, output_size).to('mps')\n",
    "num_epochs = 50\n",
    "learning_rate = 0.001\n",
    "log_epochs = 5\n",
    "# since prediction is continuous, use MSELoss\n",
    "\n",
    "loss_fn = nn.MSELoss(reduction='mean')\n",
    "optimizer = torch.optim.SGD(snn.parameters(), lr=learning_rate)\n",
    "\n",
    "\n",
    "# call the step meethod of optimizer to train model\n",
    "loss_history = [0] * num_epochs\n",
    "for epoch in range(num_epochs):\n",
    "    for x_batch, y_batch in data_loader:\n",
    "        # 1. Generate predictions\n",
    "        pred = snn(x_batch)\n",
    "        # 2. Calculate loss\n",
    "        loss = loss_fn(pred, y_batch)\n",
    "        # 3. compute gradients\n",
    "        loss.backward()\n",
    "        # 4. Update parameters using gradients\n",
    "        optimizer.step()\n",
    "        # 5. reset gradients to 0\n",
    "        optimizer.zero_grad();\n",
    "        # get the total loss per epoch\n",
    "        loss_history[epoch] += loss.item() * y_batch.size(0)\n",
    "    \n",
    "    loss_history[epoch] /= len(data_loader.dataset)\n",
    "\n",
    "    if epoch % log_epochs == 0:\n",
    "        print(f\"Epoch {epoch}  Loss {loss.item():.4f}\")"
   ]
  },
  {
   "cell_type": "markdown",
   "metadata": {},
   "source": [
    "- Note that in the above code, we are performing 2x the number of weight updates on each epoch when compared to the previous code where we were updating only once per epoch (since that was based on the whole data) and this one is based on batch size of 2"
   ]
  },
  {
   "cell_type": "code",
   "execution_count": 91,
   "metadata": {},
   "outputs": [
    {
     "data": {
      "text/plain": [
       "4"
      ]
     },
     "execution_count": 91,
     "metadata": {},
     "output_type": "execute_result"
    }
   ],
   "source": [
    "len(data_loader.dataset)"
   ]
  },
  {
   "cell_type": "code",
   "execution_count": 92,
   "metadata": {},
   "outputs": [
    {
     "data": {
      "image/png": "[encoded data removed]",
      "text/plain": [
       "<Figure size 640x480 with 1 Axes>"
      ]
     },
     "metadata": {},
     "output_type": "display_data"
    }
   ],
   "source": [
    "plt.plot(loss_history)\n",
    "plt.xlabel(\"epochs\");\n",
    "plt.ylabel(\"loss value\")\n",
    "plt.title(\"Loss Variation over increasing epochs\")\n",
    "plt.grid();\n",
    "plt.tight_layout()"
   ]
  },
  {
   "cell_type": "code",
   "execution_count": 93,
   "metadata": {},
   "outputs": [
    {
     "data": {
      "text/plain": [
       "tensor([[20.7922]], device='mps:0', grad_fn=<LinearBackward0>)"
      ]
     },
     "execution_count": 93,
     "metadata": {},
     "output_type": "execute_result"
    }
   ],
   "source": [
    "# predicting new datapoints\n",
    "x_test = torch.tensor([[10, 11]]).float().to(\"mps\")\n",
    "snn(x_test)"
   ]
  },
  {
   "cell_type": "code",
   "execution_count": 94,
   "metadata": {},
   "outputs": [
    {
     "name": "stdout",
     "output_type": "stream",
     "text": [
      "Parameter containing:\n",
      "tensor([[ 0.7955,  0.6104],\n",
      "        [-0.5706,  0.0420],\n",
      "        [ 0.5154,  0.5199],\n",
      "        [ 0.6232, -0.3065],\n",
      "        [ 0.3149, -0.5736],\n",
      "        [-0.0872, -0.4497],\n",
      "        [-0.0138,  0.5422],\n",
      "        [ 0.3525, -0.3719]], device='mps:0', requires_grad=True)\n",
      "Parameter containing:\n",
      "tensor([-0.1238, -0.1415, -0.2555, -0.3916,  0.5192,  0.4888,  0.6092, -0.3883],\n",
      "       device='mps:0', requires_grad=True)\n",
      "Parameter containing:\n",
      "tensor([[ 0.8877, -0.1072,  0.4769,  0.0362, -0.0172, -0.1548,  0.3839, -0.2279]],\n",
      "       device='mps:0', requires_grad=True)\n",
      "Parameter containing:\n",
      "tensor([0.2572], device='mps:0', requires_grad=True)\n"
     ]
    }
   ],
   "source": [
    "for param in snn.parameters():\n",
    "    print(param)"
   ]
  },
  {
   "cell_type": "markdown",
   "metadata": {},
   "source": [
    "## Implementing custom loss function\n",
    "- Sometimes, we have to implement our own custom loss function rather than the one provided by PyTorch, especially for object detection\n"
   ]
  },
  {
   "cell_type": "code",
   "execution_count": 95,
   "metadata": {},
   "outputs": [
    {
     "data": {
      "text/plain": [
       "tensor([[1., 2.],\n",
       "        [3., 4.],\n",
       "        [5., 6.],\n",
       "        [7., 8.]], device='mps:0')"
      ]
     },
     "execution_count": 95,
     "metadata": {},
     "output_type": "execute_result"
    }
   ],
   "source": [
    "x"
   ]
  },
  {
   "cell_type": "code",
   "execution_count": 96,
   "metadata": {},
   "outputs": [
    {
     "data": {
      "text/plain": [
       "tensor([[ 3.],\n",
       "        [ 7.],\n",
       "        [11.],\n",
       "        [15.]], device='mps:0')"
      ]
     },
     "execution_count": 96,
     "metadata": {},
     "output_type": "execute_result"
    }
   ],
   "source": [
    "y"
   ]
  },
  {
   "cell_type": "code",
   "execution_count": 98,
   "metadata": {},
   "outputs": [
    {
     "data": {
      "text/plain": [
       "tensor(110.3837, device='mps:0', grad_fn=<MeanBackward0>)"
      ]
     },
     "execution_count": 98,
     "metadata": {},
     "output_type": "execute_result"
    }
   ],
   "source": [
    " # use mse for loss\n",
    "def mse_loss_fn(pred, target):\n",
    "    return (pred - target).pow(2).mean()\n",
    "\n",
    "snn = SampleNeuralNet(input_size, hidden_size, output_size).to('mps')\n",
    "pred = snn(x)\n",
    "mse_loss_fn(pred, y)"
   ]
  },
  {
   "cell_type": "code",
   "execution_count": 99,
   "metadata": {},
   "outputs": [
    {
     "data": {
      "text/plain": [
       "tensor(110.3838, device='mps:0', grad_fn=<MseLossBackward0>)"
      ]
     },
     "execution_count": 99,
     "metadata": {},
     "output_type": "execute_result"
    }
   ],
   "source": [
    "loss_fn = nn.MSELoss()\n",
    "pred = snn(x)\n",
    "loss_fn(pred, y)"
   ]
  },
  {
   "cell_type": "markdown",
   "metadata": {},
   "source": [
    "- Notice that the results match"
   ]
  },
  {
   "cell_type": "markdown",
   "metadata": {},
   "source": [
    "## Fetching intermediate values of hidden layers\n",
    "- to fetch intermediate values of neural network, we can do this two ways:\n",
    "    - directly calling layers as if they are functions\n",
    "    - or specifying the layers we want to look at in the forward function\n",
    "- $snn = SampleNeuralNet(input_size, hidden_size, output_size).to('mps')$\n"
   ]
  },
  {
   "cell_type": "code",
   "execution_count": 103,
   "metadata": {},
   "outputs": [
    {
     "data": {
      "text/plain": [
       "(tensor([[-0.5876],\n",
       "         [-0.9878],\n",
       "         [-1.5163],\n",
       "         [-2.0447]], device='mps:0', grad_fn=<LinearBackward0>),\n",
       " tensor([[0.0000, 0.0204, 0.0000, 1.2586, 0.3706, 0.5310, 0.0000, 1.1777],\n",
       "         [0.0000, 0.0000, 0.0000, 3.0259, 0.0000, 0.5130, 0.0000, 2.5703],\n",
       "         [0.0000, 0.0000, 0.0000, 4.7932, 0.0000, 0.4950, 0.0000, 3.9630],\n",
       "         [0.0000, 0.0000, 0.0000, 6.5605, 0.0000, 0.4770, 0.0000, 5.3556]],\n",
       "        device='mps:0', grad_fn=<ReluBackward0>))"
      ]
     },
     "execution_count": 103,
     "metadata": {},
     "output_type": "execute_result"
    }
   ],
   "source": [
    "class SampleNeuralNet(nn.Module):\n",
    "    def __init__(self, input_size, hidden_size, output_size):\n",
    "        super().__init__()\n",
    "        self.layer1 = nn.Linear(input_size, hidden_size)\n",
    "        self.activation = nn.ReLU()\n",
    "        self.layer2 = nn.Linear(hidden_size, output_size)\n",
    "\n",
    "    def forward(self, x):\n",
    "        h = self.layer1(x) # take input and compute the hidden layer\n",
    "        a = self.activation(h) # take the hidden layer and compute the activation\n",
    "        o = self.layer2(a) # tale input from activation and compute outputs\n",
    "        return o, a\n",
    "snn = SampleNeuralNet(input_size, hidden_size, output_size).to('mps')\n",
    "snn(x)"
   ]
  },
  {
   "cell_type": "code",
   "execution_count": 104,
   "metadata": {},
   "outputs": [
    {
     "data": {
      "text/plain": [
       "tensor([[0.0000, 0.0204, 0.0000, 1.2586, 0.3706, 0.5310, 0.0000, 1.1777],\n",
       "        [0.0000, 0.0000, 0.0000, 3.0259, 0.0000, 0.5130, 0.0000, 2.5703],\n",
       "        [0.0000, 0.0000, 0.0000, 4.7932, 0.0000, 0.4950, 0.0000, 3.9630],\n",
       "        [0.0000, 0.0000, 0.0000, 6.5605, 0.0000, 0.4770, 0.0000, 5.3556]],\n",
       "       device='mps:0', grad_fn=<ReluBackward0>)"
      ]
     },
     "execution_count": 104,
     "metadata": {},
     "output_type": "execute_result"
    }
   ],
   "source": [
    "# return value from forward function shows how to obtain the hidden layer\n",
    "snn(x)[1]"
   ]
  },
  {
   "cell_type": "code",
   "execution_count": 106,
   "metadata": {},
   "outputs": [
    {
     "data": {
      "text/plain": [
       "tensor([[0.0000, 0.0204, 0.0000, 1.2586, 0.3706, 0.5310, 0.0000, 1.1777],\n",
       "        [0.0000, 0.0000, 0.0000, 3.0259, 0.0000, 0.5130, 0.0000, 2.5703],\n",
       "        [0.0000, 0.0000, 0.0000, 4.7932, 0.0000, 0.4950, 0.0000, 3.9630],\n",
       "        [0.0000, 0.0000, 0.0000, 6.5605, 0.0000, 0.4770, 0.0000, 5.3556]],\n",
       "       device='mps:0', grad_fn=<ReluBackward0>)"
      ]
     },
     "execution_count": 106,
     "metadata": {},
     "output_type": "execute_result"
    }
   ],
   "source": [
    "snn.activation(snn.layer1(x))"
   ]
  },
  {
   "cell_type": "markdown",
   "metadata": {},
   "source": [
    "## Using Sequential method to build a neural network\n",
    "- before, we built a neural network where we define the layers and how the layers are connected with each other. \n",
    "- a much simpler method is to use Sequential class\n",
    "- the code below accepts a Linear model that accepts two dimensional input and gives 8 dimension output for each example, nn.ReLU performs ReLU activation on top of the eight dimensional output and finally, eight dimensional output gives one dimensional outout using final nn.Linear layer"
   ]
  },
  {
   "cell_type": "code",
   "execution_count": 190,
   "metadata": {},
   "outputs": [
    {
     "name": "stdout",
     "output_type": "stream",
     "text": [
      "==========================================================================================\n",
      "Layer (type:depth-idx)                   Output Shape              Param #\n",
      "==========================================================================================\n",
      "├─Linear: 1-1                            [-1, 8]                   24\n",
      "├─ReLU: 1-2                              [-1, 8]                   --\n",
      "├─Linear: 1-3                            [-1, 1]                   9\n",
      "==========================================================================================\n",
      "Total params: 33\n",
      "Trainable params: 33\n",
      "Non-trainable params: 0\n",
      "Total mult-adds (M): 0.00\n",
      "==========================================================================================\n",
      "Input size (MB): 0.00\n",
      "Forward/backward pass size (MB): 0.00\n",
      "Params size (MB): 0.00\n",
      "Estimated Total Size (MB): 0.00\n",
      "==========================================================================================\n"
     ]
    },
    {
     "data": {
      "text/plain": [
       "==========================================================================================\n",
       "Layer (type:depth-idx)                   Output Shape              Param #\n",
       "==========================================================================================\n",
       "├─Linear: 1-1                            [-1, 8]                   24\n",
       "├─ReLU: 1-2                              [-1, 8]                   --\n",
       "├─Linear: 1-3                            [-1, 1]                   9\n",
       "==========================================================================================\n",
       "Total params: 33\n",
       "Trainable params: 33\n",
       "Non-trainable params: 0\n",
       "Total mult-adds (M): 0.00\n",
       "==========================================================================================\n",
       "Input size (MB): 0.00\n",
       "Forward/backward pass size (MB): 0.00\n",
       "Params size (MB): 0.00\n",
       "Estimated Total Size (MB): 0.00\n",
       "=========================================================================================="
      ]
     },
     "execution_count": 190,
     "metadata": {},
     "output_type": "execute_result"
    }
   ],
   "source": [
    "from torchsummary import summary\n",
    "model = nn.Sequential(\n",
    "    nn.Linear(2, 8),\n",
    "    nn.ReLU(),\n",
    "    nn.Linear(8, 1)\n",
    ")\n",
    "summary(model, torch.zeros(1, 2))"
   ]
  },
  {
   "cell_type": "markdown",
   "metadata": {},
   "source": [
    "- Note that output shape of first layer (-1, 8) where -1 represents that there can be as many data points as batch size, 8 represents that for each data point, we have 8 dimensional output resulting in an output of shape batch_size * 8"
   ]
  },
  {
   "cell_type": "code",
   "execution_count": 191,
   "metadata": {},
   "outputs": [],
   "source": [
    "model = model.to(\"mps\")\n",
    "# cannot sent ot mps device upon initlaiization"
   ]
  },
  {
   "cell_type": "code",
   "execution_count": 192,
   "metadata": {},
   "outputs": [
    {
     "data": {
      "text/plain": [
       "tensor([[-1.5539],\n",
       "        [-0.6690]], device='mps:0', grad_fn=<LinearBackward0>)"
      ]
     },
     "execution_count": 192,
     "metadata": {},
     "output_type": "execute_result"
    }
   ],
   "source": [
    "model(x_batch)"
   ]
  },
  {
   "cell_type": "code",
   "execution_count": 193,
   "metadata": {},
   "outputs": [
    {
     "data": {
      "text/plain": [
       "tensor([[ 3.],\n",
       "        [ 7.],\n",
       "        [11.],\n",
       "        [15.]], device='mps:0')"
      ]
     },
     "execution_count": 193,
     "metadata": {},
     "output_type": "execute_result"
    }
   ],
   "source": [
    "y"
   ]
  },
  {
   "cell_type": "code",
   "execution_count": 194,
   "metadata": {},
   "outputs": [
    {
     "name": "stdout",
     "output_type": "stream",
     "text": [
      "Epoch 0  Loss 88.3365\n",
      "Epoch 5  Loss 0.5300\n",
      "Epoch 10  Loss 0.0643\n",
      "Epoch 15  Loss 0.0613\n",
      "Epoch 20  Loss 0.0584\n",
      "Epoch 25  Loss 0.0556\n",
      "Epoch 30  Loss 0.0529\n",
      "Epoch 35  Loss 0.0503\n",
      "Epoch 40  Loss 0.0479\n",
      "Epoch 45  Loss 0.0455\n"
     ]
    }
   ],
   "source": [
    "input_size = x.shape[1]\n",
    "hidden_size = 8\n",
    "output_size = 1\n",
    "num_epochs = 50\n",
    "learning_rate = 0.001\n",
    "log_epochs = 5\n",
    "# since prediction is continuous, use MSELoss\n",
    "\n",
    "loss_fn = nn.MSELoss(reduction='mean').to(\"mps\")\n",
    "optimizer = torch.optim.SGD(model.parameters(), lr=learning_rate)\n",
    "loss_history = [0] * num_epochs\n",
    "\n",
    "for epoch in range(num_epochs):\n",
    "    for x_batch, y_batch in data_loader:\n",
    "        loss = loss_fn(model(x), y)\n",
    "        loss.backward()\n",
    "        # update model parameters\n",
    "        optimizer.step()\n",
    "        # get the total loss per epoch\n",
    "        loss_history[epoch] += loss.item() * y_batch.size(0)\n",
    "        \n",
    "        # reset gradients to 0\n",
    "        optimizer.zero_grad();\n",
    "    \n",
    "    loss_history[epoch] /= len(data_loader.dataset)\n",
    "\n",
    "    if epoch % log_epochs == 0:\n",
    "        print(f\"Epoch {epoch}  Loss {loss.item():.4f}\")"
   ]
  },
  {
   "cell_type": "code",
   "execution_count": 195,
   "metadata": {},
   "outputs": [
    {
     "data": {
      "image/png": "[encoded data removed]",
      "text/plain": [
       "<Figure size 640x480 with 1 Axes>"
      ]
     },
     "metadata": {},
     "output_type": "display_data"
    }
   ],
   "source": [
    "plt.plot(loss_history)\n",
    "plt.xlabel(\"epochs\");\n",
    "plt.ylabel(\"loss value\")\n",
    "plt.title(\"Loss Variation over increasing epochs\")\n",
    "plt.grid();\n",
    "plt.tight_layout()"
   ]
  },
  {
   "cell_type": "code",
   "execution_count": 196,
   "metadata": {},
   "outputs": [
    {
     "data": {
      "text/plain": [
       "tensor([[16.6849],\n",
       "        [20.4534],\n",
       "        [ 4.2831]], device='mps:0', grad_fn=<LinearBackward0>)"
      ]
     },
     "execution_count": 196,
     "metadata": {},
     "output_type": "execute_result"
    }
   ],
   "source": [
    "x_val = [[8, 9],[10, 11], [1.5, 2.5]]\n",
    "x_val = torch.tensor(x_val).float().to(\"mps\")\n",
    "model(x_val)"
   ]
  },
  {
   "cell_type": "code",
   "execution_count": null,
   "metadata": {},
   "outputs": [],
   "source": []
  }
 ],
 "metadata": {
  "kernelspec": {
   "display_name": "py_env",
   "language": "python",
   "name": "python3"
  },
  "language_info": {
   "codemirror_mode": {
    "name": "ipython",
    "version": 3
   },
   "file_extension": ".py",
   "mimetype": "text/x-python",
   "name": "python",
   "nbconvert_exporter": "python",
   "pygments_lexer": "ipython3",
   "version": "3.11.7"
  }
 },
 "nbformat": 4,
 "nbformat_minor": 2
}
