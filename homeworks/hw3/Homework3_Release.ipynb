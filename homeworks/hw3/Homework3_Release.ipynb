{
  "cells": [
    {
      "cell_type": "markdown",
      "id": "c1ba25aa-1137-4740-839c-f7a69eb50b52",
      "metadata": {
        "id": "c1ba25aa-1137-4740-839c-f7a69eb50b52"
      },
      "source": [
        "Homework 3: Object Recognition\n",
        "==========\n",
        "\n",
        "> **Submission Instructions:** Before the deadline, export the completed notebook to PDF and upload it to GradeScope. The PDF should clearly show your code, and the result of running the code. Check the PDF to ensure that it is readable, the font-size is not small, and no information is cut-off. There will be no make-ups or extensions for corrupted/damaged/unreadable PDFs."
      ]
    },
    {
      "cell_type": "markdown",
      "id": "AVcwnnUJjQEj",
      "metadata": {
        "id": "AVcwnnUJjQEj"
      },
      "source": [
        "**Names of Collaborators:**\n",
        "\n",
        "In this homework, we will investigate learning a neural network with PyTorch. This will give you some familarity with PyTorch and modern deep learning libraries. First, let's load in PyTorch and several functions that we will use throughout the homework."
      ]
    },
    {
      "cell_type": "code",
      "execution_count": 1,
      "id": "071258a6-b275-4a24-ad8e-1e7663b2584b",
      "metadata": {
        "id": "071258a6-b275-4a24-ad8e-1e7663b2584b"
      },
      "outputs": [],
      "source": [
        "import matplotlib.pyplot as plt\n",
        "import numpy as np\n",
        "import torch\n",
        "import torchvision\n",
        "import torchvision.transforms as transforms\n",
        "import torch.nn as nn\n",
        "import torch.nn.functional as F\n",
        "import torch.optim as optim\n",
        "\n",
        "device = \"cuda\" if torch.cuda.is_available() else \"cpu\"\n",
        "\n",
        "def imshow(img):\n",
        "    img = img / 2 + 0.5\n",
        "    npimg = img.numpy()\n",
        "    plt.imshow(np.transpose(npimg, (1, 2, 0)))\n",
        "    plt.show()"
      ]
    },
    {
      "cell_type": "markdown",
      "id": "4lwxFsRf1Tkt",
      "metadata": {
        "id": "4lwxFsRf1Tkt"
      },
      "source": [
        "For this homework, having access to a GPU will be very useful. To enable a GPU, follow the instructions from the previous homework. If the code below outputs `cuda`, then you are using a GPU."
      ]
    },
    {
      "cell_type": "code",
      "execution_count": 2,
      "id": "1zhdwrJ51deT",
      "metadata": {
        "id": "1zhdwrJ51deT"
      },
      "outputs": [
        {
          "name": "stdout",
          "output_type": "stream",
          "text": [
            "cpu\n"
          ]
        }
      ],
      "source": [
        "print(device)"
      ]
    },
    {
      "cell_type": "markdown",
      "id": "gV5Hmnr6avzU",
      "metadata": {
        "id": "gV5Hmnr6avzU"
      },
      "source": [
        "# 1. Problem 1: Building Neural Network"
      ]
    },
    {
      "cell_type": "markdown",
      "id": "7ab7cefb-1ca9-4361-826c-9fffe3068278",
      "metadata": {
        "id": "7ab7cefb-1ca9-4361-826c-9fffe3068278"
      },
      "source": [
        "Introduction to PyTorch\n",
        "-----------------------\n",
        "PyTorch is similar to numpy. For the most part, if there is a numpy operation, there is an equivalent PyTorch operation. However, the advantage of PyTorch is that it will automatically calculate gradients through back-propagation and the algorithms are implemented on the GPU.\n",
        "\n",
        "### Automatic Differentiation\n",
        "You can view PyTorch as Numpy with gradient calculation built in. After you have finished computing your program, there is a `.backward()` function that calculates the gradients for all of the operations in the program. You no longer need to analytically calculate the gradients, code it up, and write a gradient checker.\n",
        "\n",
        "Let's look at a basic example. We will perform matrix multiplication between `a` and `b`, followed by element-wise multiplication with `c`, and finally we sum the result. Since it is computed in PyTorch, we can simply call `result.backward()` to have all of the gradients calculated throughout the computational graph."
      ]
    },
    {
      "cell_type": "code",
      "execution_count": 3,
      "id": "6a645f82-d24e-4205-9bfd-c442a83e82ad",
      "metadata": {
        "id": "6a645f82-d24e-4205-9bfd-c442a83e82ad"
      },
      "outputs": [
        {
          "name": "stdout",
          "output_type": "stream",
          "text": [
            "Result: 1.0646803379058838\n",
            "Gradient a:\n",
            " tensor([[0.6902, 0.6424],\n",
            "        [0.6422, 0.7338]])\n",
            "Gradient b:\n",
            " tensor([[0.9645, 0.9658],\n",
            "        [0.2012, 0.2618]])\n",
            "Gradient c:\n",
            " None\n"
          ]
        }
      ],
      "source": [
        "a = torch.rand(2,2, requires_grad=True, device=device)\n",
        "b = torch.rand(2,2, requires_grad=True, device=device)\n",
        "c = torch.rand(2,2, device=device)\n",
        "\n",
        "result = torch.matmul(a, b) * c\n",
        "result = result.sum()\n",
        "\n",
        "result.backward() # calculate the gradients with back-propagation to the input\n",
        "\n",
        "print(f'Result: {result.cpu().item()}')\n",
        "print(f'Gradient a:\\n {a.grad}')\n",
        "print(f'Gradient b:\\n {b.grad}')\n",
        "print(f'Gradient c:\\n {c.grad}')"
      ]
    },
    {
      "cell_type": "code",
      "execution_count": 4,
      "id": "a90d588b",
      "metadata": {},
      "outputs": [
        {
          "data": {
            "text/plain": [
              "tensor([[8.8129e-01, 1.1432e-04],\n",
              "        [1.7150e+00, 5.7186e-01]], grad_fn=<MulBackward0>)"
            ]
          },
          "execution_count": 4,
          "metadata": {},
          "output_type": "execute_result"
        }
      ],
      "source": [
        "2 * a"
      ]
    },
    {
      "cell_type": "markdown",
      "id": "IX7MOdFf2j6-",
      "metadata": {
        "id": "IX7MOdFf2j6-"
      },
      "source": [
        "Note that only the tensors explicitly marked with `requires_grad=True` will have gradients calculated. Consequently, the gradient for `c` is `None` in the above computation. Automatic differenation makes it possible to implement very creative and complex deep learning algorithms. There has been extensive research and development to create many differentiable functions.\n",
        "\n",
        "PyTorch makes it easy to transfer variables between the CPU and the GPU. When the variable `a` is constructed, the `device=device` specifies whether to store it on the CPU or GPU, depending on the value of the `device` variable. There is also a `.cpu()` function to bring a variable back to the CPU, and a `.to(device)` function to transfer a variable between devices."
      ]
    },
    {
      "cell_type": "code",
      "execution_count": 5,
      "id": "YhSdPdR--tXE",
      "metadata": {
        "id": "YhSdPdR--tXE"
      },
      "outputs": [],
      "source": [
        "cpu_tensor = torch.rand(2,2)\n",
        "gpu_tensor = cpu_tensor.to(\"mps\")\n",
        "\n",
        "cpu_tensor_2 = gpu_tensor.to(\"cpu\")\n",
        "cpu_tensor_3 = gpu_tensor.cpu()"
      ]
    },
    {
      "cell_type": "markdown",
      "id": "9f394f66-027b-4e72-b1a4-5f8d576682f9",
      "metadata": {
        "id": "9f394f66-027b-4e72-b1a4-5f8d576682f9"
      },
      "source": [
        "### Neural Network Layers\n",
        "\n",
        "PyTorch also has a large library of deep learning layers. These layers allow you to operate at a higher-level of abstraction than low-level code. For example, one of the most basic layers in deep learning modules are linear layers, which is a matrix multiplication followed by a vector addition. PyTorch has layers that handle this for you, and automatically create the parameter vectors that need to be learned.\n",
        "\n",
        "Below is an example. Notice how we first create the layer, then we call the layer. Creating the layer is like creating the function, which you can then later call. When the layer is created, the weights for the matrix multiplication (and addition) are automatically created, and initialized automatically with random numbers."
      ]
    },
    {
      "cell_type": "code",
      "execution_count": 6,
      "id": "4d9cccd5-393d-4b99-9de9-34dbc7d40413",
      "metadata": {
        "id": "4d9cccd5-393d-4b99-9de9-34dbc7d40413"
      },
      "outputs": [
        {
          "name": "stdout",
          "output_type": "stream",
          "text": [
            "Weights of the Layer:\n",
            "Parameter containing:\n",
            "tensor([[-0.3695,  0.3217, -0.1147],\n",
            "        [-0.1132, -0.0084, -0.2736]], requires_grad=True)\n"
          ]
        }
      ],
      "source": [
        "test_input = torch.randn(3)\n",
        "\n",
        "layer = nn.Linear(3, 2) # create the layer\n",
        "output = layer(test_input) # call the layer\n",
        "\n",
        "print('Weights of the Layer:')\n",
        "print(layer.weight)"
      ]
    },
    {
      "cell_type": "markdown",
      "id": "6a5f2e58-9478-4ed6-8b6b-a694cd92d224",
      "metadata": {
        "id": "6a5f2e58-9478-4ed6-8b6b-a694cd92d224"
      },
      "source": [
        "This allows us to chain layers together in order to create a neural network. For example, the below code creates a neural network similar to the previous homework. And the gradients can be easily calculated through back-propagation throughout all of the layers."
      ]
    },
    {
      "cell_type": "code",
      "execution_count": 7,
      "id": "f93a2cb5-f028-4761-bb8d-3402cba55ce0",
      "metadata": {
        "id": "f93a2cb5-f028-4761-bb8d-3402cba55ce0"
      },
      "outputs": [
        {
          "name": "stdout",
          "output_type": "stream",
          "text": [
            "Result: 0.02770122140645981\n",
            "Gradient to weights in layer 1:\n",
            "tensor([[ 0.0000,  0.0000,  0.0000],\n",
            "        [ 0.0000,  0.0000,  0.0000],\n",
            "        [ 0.0000,  0.0000,  0.0000],\n",
            "        [-0.0339, -0.0087, -0.0025],\n",
            "        [ 0.0000,  0.0000,  0.0000],\n",
            "        [ 0.0000,  0.0000,  0.0000],\n",
            "        [ 0.0000,  0.0000,  0.0000],\n",
            "        [ 0.0000,  0.0000,  0.0000],\n",
            "        [ 0.0000,  0.0000,  0.0000],\n",
            "        [ 0.0000,  0.0000,  0.0000],\n",
            "        [-0.1961, -0.0506, -0.0142],\n",
            "        [ 0.0000,  0.0000,  0.0000],\n",
            "        [ 0.0606,  0.0156,  0.0044],\n",
            "        [ 0.0000,  0.0000,  0.0000],\n",
            "        [ 0.0000,  0.0000,  0.0000],\n",
            "        [ 0.0000,  0.0000,  0.0000],\n",
            "        [ 0.1330,  0.0343,  0.0096],\n",
            "        [ 0.0000,  0.0000,  0.0000],\n",
            "        [ 0.0000,  0.0000,  0.0000],\n",
            "        [-0.0716, -0.0185, -0.0052]])\n"
          ]
        }
      ],
      "source": [
        "test_input = torch.randn(3)\n",
        "\n",
        "layer1 = nn.Linear(3, 20)\n",
        "layer2 = nn.ReLU()\n",
        "layer3 = nn.Linear(20, 1)\n",
        "\n",
        "out = layer1(test_input)\n",
        "out = layer2(out)\n",
        "out = layer3(out)\n",
        "\n",
        "print(f'Result: {out.item()}')\n",
        "\n",
        "out.backward()\n",
        "\n",
        "print('Gradient to weights in layer 1:')\n",
        "print(layer1.weight.grad)"
      ]
    },
    {
      "cell_type": "markdown",
      "id": "7493f7bf-f020-4429-a4d2-772dfc1c0061",
      "metadata": {
        "id": "7493f7bf-f020-4429-a4d2-772dfc1c0061"
      },
      "source": [
        "Let's use this knowledge to create a neural network for object recognition."
      ]
    },
    {
      "cell_type": "markdown",
      "id": "c2b040d5-ab97-4790-b423-428fc20ee752",
      "metadata": {
        "id": "c2b040d5-ab97-4790-b423-428fc20ee752"
      },
      "source": [
        "Loading Image Datasets\n",
        "----------------------\n",
        "We are going to work with the CIFAR10 dataset, which is a small image dataset consisting of just ten object categories. Most datasets today are many orders of magnitude larger in size, but the smaller dataset will allow us to work on commodity computers. The code below will download both the train/test splits of the CIFAR10 dataset, and visualize some of the images."
      ]
    },
    {
      "cell_type": "code",
      "execution_count": 8,
      "id": "04121e8d-a42c-4287-a3ac-c7639d4a9175",
      "metadata": {
        "id": "04121e8d-a42c-4287-a3ac-c7639d4a9175"
      },
      "outputs": [
        {
          "name": "stdout",
          "output_type": "stream",
          "text": [
            "Files already downloaded and verified\n",
            "Files already downloaded and verified\n"
          ]
        },
        {
          "data": {
            "image/png": "[encoded data removed]",
            "text/plain": [
              "<Figure size 640x480 with 1 Axes>"
            ]
          },
          "metadata": {},
          "output_type": "display_data"
        }
      ],
      "source": [
        "transform = transforms.Compose(\n",
        "    [transforms.ToTensor(),\n",
        "     transforms.Normalize((0.5, 0.5, 0.5), (0.5, 0.5, 0.5))])\n",
        "\n",
        "batch_size = 4\n",
        "import os\n",
        "path = os.path.join(os.getcwd(), 'cv_with_pytorch', 'datasets', 'CIFAR')\n",
        "\n",
        "trainset = torchvision.datasets.CIFAR10(root=path, train=True,\n",
        "                                        download=True, transform=transform)\n",
        "trainloader = torch.utils.data.DataLoader(trainset, batch_size=batch_size,\n",
        "                                          shuffle=True, num_workers=2)\n",
        "\n",
        "testset = torchvision.datasets.CIFAR10(root=path, train=False,\n",
        "                                       download=True, transform=transform)\n",
        "testloader = torch.utils.data.DataLoader(testset, batch_size=batch_size,\n",
        "                                         shuffle=False, num_workers=2)\n",
        "\n",
        "classes = ('plane', 'car', 'bird', 'cat',\n",
        "           'deer', 'dog', 'frog', 'horse', 'ship', 'truck')\n",
        "\n",
        "# get some random training images\n",
        "dataiter = iter(trainloader)\n",
        "images, labels = next(dataiter)\n",
        "\n",
        "# show images\n",
        "imshow(torchvision.utils.make_grid(images))"
      ]
    },
    {
      "cell_type": "code",
      "execution_count": null,
      "id": "10db5a16",
      "metadata": {},
      "outputs": [],
      "source": []
    },
    {
      "cell_type": "markdown",
      "id": "c1aa6f00-c29f-47f6-be09-2582e363741c",
      "metadata": {
        "id": "c1aa6f00-c29f-47f6-be09-2582e363741c"
      },
      "source": [
        "Building the Neural Network\n",
        "---------------------------\n",
        "\n",
        "Create a convolutional neural network that classifies the category of the images in the CIFAR10 dataset. In the class below, there are two functions: `__init__` and `forward()`. In the constructor, instantiate the layers that you will need. In the `forward()` function, call these layers in order to run the neural network forwards.\n",
        "\n",
        "Experiment with the below neural network layers to build a network that is able to classify the image:\n",
        "- <a href=\"https://pytorch.org/docs/stable/generated/torch.nn.Conv2d.html\">nn.Conv2d()</a>\n",
        "- <a href=\"https://pytorch.org/docs/stable/generated/torch.nn.MaxPool2d.html#torch.nn.MaxPool2d\">nn.MaxPool2d()</a>\n",
        "- <a href=\"https://pytorch.org/docs/stable/generated/torch.nn.Linear.html#torch.nn.Linear\">nn.Linear()</a>\n",
        "- <a href=\"https://pytorch.org/docs/stable/generated/torch.nn.ReLU.html#torch.nn.ReLU\">nn.ReLU()</a>\n",
        "\n",
        "The input `x` will be an tensor of size `4x3x32x32`, which represents a batch of input images. The output should be a ten dimensional vector. You will most likely need to use other PyTorch operations as well, such as `torch.flatten()`. Feel free to use other layers and operations as you see fit.\n",
        "\n",
        "We recommend first trying the following neural network: convolution, max pooling, convolution, max pooling, convolution, convolution, flattening, linear, linear, linear. Note that you should put the activation function in the right spots."
      ]
    },
    {
      "cell_type": "code",
      "execution_count": 10,
      "id": "d51e46f1-581f-45d1-a093-ba63e7f09cb2",
      "metadata": {
        "id": "d51e46f1-581f-45d1-a093-ba63e7f09cb2"
      },
      "outputs": [],
      "source": [
        "class Net(nn.Module):\n",
        "    def __init__(self):\n",
        "        super().__init__()\n",
        "        self.conv1 = nn.Conv2d(3, 10, kernel_size=3)\n",
        "        self.max_pool = nn.MaxPool2d(2, 2)\n",
        "        self.activation = nn.ReLU()\n",
        "        self.conv2 = nn.Conv2d(10, 10, kernel_size=2)\n",
        "        self.conv3 = nn.Conv2d(10, 6, kernel_size=2)\n",
        "        self.conv4 = nn.Conv2d(6, 5, kernel_size=2)\n",
        "        self.flatten = nn.Flatten()\n",
        "        self.linear1 = nn.Linear(5*5*5, 80)\n",
        "        self.linear2 = nn.Linear(80, 40)\n",
        "        self.linear3 = nn.Linear(40, 10)\n",
        "\n",
        "    def forward(self, x):\n",
        "        # Implement the forward pass with using the layers defined above\n",
        "        # and the proper activation functions\n",
        "        x = self.conv1(x)\n",
        "        x = self.max_pool(x)\n",
        "        x = self.activation(x)\n",
        "        x = self.conv2(x)\n",
        "        x = self.max_pool(x)\n",
        "        x = self.activation(x)\n",
        "        x = self.conv3(x)\n",
        "        x = self.conv4(x)\n",
        "        x = self.flatten(x)\n",
        "        x = self.linear1(x)\n",
        "        x = self.linear2(x)\n",
        "        x = self.linear3(x)\n",
        "        return x\n",
        "\n",
        "net = Net()"
      ]
    },
    {
      "cell_type": "markdown",
      "id": "3e2c54f8-d9ed-4f64-8842-8c2493998195",
      "metadata": {
        "id": "3e2c54f8-d9ed-4f64-8842-8c2493998195"
      },
      "source": [
        "Before we proceed, let's visualize the weights of the first convolutional layer in the neural network. Modify the code below in order to plot the weights of the first convolutional layer. (You need to use `detach()` in order for this to work.)"
      ]
    },
    {
      "cell_type": "code",
      "execution_count": 11,
      "id": "y-8ATVm3UW3f",
      "metadata": {
        "id": "y-8ATVm3UW3f"
      },
      "outputs": [
        {
          "data": {
            "image/png": "[encoded data removed]",
            "text/plain": [
              "<Figure size 640x480 with 1 Axes>"
            ]
          },
          "metadata": {},
          "output_type": "display_data"
        }
      ],
      "source": [
        "imshow(torchvision.utils.make_grid(net.conv1.weight.cpu().detach()))"
      ]
    },
    {
      "cell_type": "markdown",
      "id": "3f271ca1-27e9-4233-bf9f-d63efce156db",
      "metadata": {
        "id": "3f271ca1-27e9-4233-bf9f-d63efce156db"
      },
      "source": [
        "Training the Network\n",
        "--------------------\n",
        "\n",
        "Since the neural network is initialized with random noise, the filters visualized above are just random noise. In order to train them, we need to specify both a) a loss function and b) an optimization algorithm. We will use the cross entropy loss function with stochastic gradient descent. In PyTorch, we can specify these by creating the two objects below:"
      ]
    },
    {
      "cell_type": "code",
      "execution_count": 12,
      "id": "6a3b8960-915a-41c8-b190-cc363234e779",
      "metadata": {
        "id": "6a3b8960-915a-41c8-b190-cc363234e779"
      },
      "outputs": [],
      "source": [
        "criterion = nn.CrossEntropyLoss()\n",
        "optimizer = optim.Adam(net.parameters(), lr=0.0001)"
      ]
    },
    {
      "cell_type": "markdown",
      "id": "6c7296b0-2462-42ce-9da2-ef033b6a6afe",
      "metadata": {
        "id": "6c7296b0-2462-42ce-9da2-ef033b6a6afe"
      },
      "source": [
        "Notice that the optimizer accepts the parameter `net.parameters()`. The call `net.parameters()` is a bit of magic. It will automatically determine which tensors are learnable inside the network, and pack them into a vector that is fed into the gradient descent method. In the previous homework, you needed to manually track these variables, but in PyTorch there is book-keeping underneath the API that does this for you automatically.\n",
        "\n",
        "Now, we are ready to train the neural network."
      ]
    },
    {
      "cell_type": "code",
      "execution_count": 13,
      "id": "9af41bb4-2495-430f-aeb2-12a43a650c5c",
      "metadata": {
        "id": "9af41bb4-2495-430f-aeb2-12a43a650c5c"
      },
      "outputs": [],
      "source": [
        "def train_network(net, n_epochs=2):\n",
        "    net.to(device)\n",
        "\n",
        "    for epoch in range(n_epochs):  # loop over the dataset multiple times\n",
        "        for i, data in enumerate(trainloader, 0):\n",
        "            # get the inputs; data is a list of [inputs, labels]\n",
        "            inputs, labels = data\n",
        "\n",
        "            inputs, labels = inputs.to(device), labels.to(device)\n",
        "\n",
        "            # zero the parameter gradients\n",
        "            optimizer.zero_grad()\n",
        "\n",
        "            # forward + backward + optimize\n",
        "            outputs = net(inputs)\n",
        "            loss = criterion(outputs, labels)\n",
        "            loss.backward()\n",
        "            optimizer.step()\n",
        "\n",
        "            # print statistics\n",
        "            if i % 1000 == 0:\n",
        "                print(f'Epoch={epoch + 1} Iter={i + 1:5d} Loss={loss.item():.3f}')\n",
        "                running_loss = 0.0\n",
        "    print('Finished Training')\n",
        "    return net\n"
      ]
    },
    {
      "cell_type": "markdown",
      "id": "Jirk3sAeFkVu",
      "metadata": {
        "id": "Jirk3sAeFkVu"
      },
      "source": [
        "If you want, you can train the network for longer too. This will help improve the performance."
      ]
    },
    {
      "cell_type": "code",
      "execution_count": 14,
      "id": "ElCSzf5rFo4e",
      "metadata": {
        "id": "ElCSzf5rFo4e"
      },
      "outputs": [
        {
          "name": "stdout",
          "output_type": "stream",
          "text": [
            "Epoch=1 Iter=    1 Loss=2.398\n",
            "Epoch=1 Iter= 1001 Loss=2.285\n",
            "Epoch=1 Iter= 2001 Loss=2.254\n",
            "Epoch=1 Iter= 3001 Loss=2.116\n",
            "Epoch=1 Iter= 4001 Loss=1.912\n",
            "Epoch=1 Iter= 5001 Loss=1.633\n",
            "Epoch=1 Iter= 6001 Loss=1.532\n",
            "Epoch=1 Iter= 7001 Loss=1.471\n",
            "Epoch=1 Iter= 8001 Loss=1.766\n",
            "Epoch=1 Iter= 9001 Loss=1.644\n",
            "Epoch=1 Iter=10001 Loss=1.620\n",
            "Epoch=1 Iter=11001 Loss=1.254\n",
            "Epoch=1 Iter=12001 Loss=0.744\n",
            "Epoch=2 Iter=    1 Loss=1.877\n",
            "Epoch=2 Iter= 1001 Loss=1.407\n",
            "Epoch=2 Iter= 2001 Loss=1.374\n",
            "Epoch=2 Iter= 3001 Loss=1.965\n"
          ]
        },
        {
          "ename": "KeyboardInterrupt",
          "evalue": "",
          "output_type": "error",
          "traceback": [
            "\u001b[0;31m---------------------------------------------------------------------------\u001b[0m",
            "\u001b[0;31mKeyboardInterrupt\u001b[0m                         Traceback (most recent call last)",
            "Cell \u001b[0;32mIn[14], line 1\u001b[0m\n\u001b[0;32m----> 1\u001b[0m \u001b[43mtrain_network\u001b[49m\u001b[43m(\u001b[49m\u001b[43mnet\u001b[49m\u001b[43m,\u001b[49m\u001b[43m \u001b[49m\u001b[43mn_epochs\u001b[49m\u001b[38;5;241;43m=\u001b[39;49m\u001b[38;5;241;43m5\u001b[39;49m\u001b[43m)\u001b[49m\n",
            "Cell \u001b[0;32mIn[13], line 17\u001b[0m, in \u001b[0;36mtrain_network\u001b[0;34m(net, n_epochs)\u001b[0m\n\u001b[1;32m     15\u001b[0m outputs \u001b[38;5;241m=\u001b[39m net(inputs)\n\u001b[1;32m     16\u001b[0m loss \u001b[38;5;241m=\u001b[39m criterion(outputs, labels)\n\u001b[0;32m---> 17\u001b[0m \u001b[43mloss\u001b[49m\u001b[38;5;241;43m.\u001b[39;49m\u001b[43mbackward\u001b[49m\u001b[43m(\u001b[49m\u001b[43m)\u001b[49m\n\u001b[1;32m     18\u001b[0m optimizer\u001b[38;5;241m.\u001b[39mstep()\n\u001b[1;32m     20\u001b[0m \u001b[38;5;66;03m# print statistics\u001b[39;00m\n",
            "File \u001b[0;32m~/Documents/research/Home/python/computer-vision/py_env/lib/python3.11/site-packages/torch/_tensor.py:522\u001b[0m, in \u001b[0;36mTensor.backward\u001b[0;34m(self, gradient, retain_graph, create_graph, inputs)\u001b[0m\n\u001b[1;32m    512\u001b[0m \u001b[38;5;28;01mif\u001b[39;00m has_torch_function_unary(\u001b[38;5;28mself\u001b[39m):\n\u001b[1;32m    513\u001b[0m     \u001b[38;5;28;01mreturn\u001b[39;00m handle_torch_function(\n\u001b[1;32m    514\u001b[0m         Tensor\u001b[38;5;241m.\u001b[39mbackward,\n\u001b[1;32m    515\u001b[0m         (\u001b[38;5;28mself\u001b[39m,),\n\u001b[0;32m   (...)\u001b[0m\n\u001b[1;32m    520\u001b[0m         inputs\u001b[38;5;241m=\u001b[39minputs,\n\u001b[1;32m    521\u001b[0m     )\n\u001b[0;32m--> 522\u001b[0m \u001b[43mtorch\u001b[49m\u001b[38;5;241;43m.\u001b[39;49m\u001b[43mautograd\u001b[49m\u001b[38;5;241;43m.\u001b[39;49m\u001b[43mbackward\u001b[49m\u001b[43m(\u001b[49m\n\u001b[1;32m    523\u001b[0m \u001b[43m    \u001b[49m\u001b[38;5;28;43mself\u001b[39;49m\u001b[43m,\u001b[49m\u001b[43m \u001b[49m\u001b[43mgradient\u001b[49m\u001b[43m,\u001b[49m\u001b[43m \u001b[49m\u001b[43mretain_graph\u001b[49m\u001b[43m,\u001b[49m\u001b[43m \u001b[49m\u001b[43mcreate_graph\u001b[49m\u001b[43m,\u001b[49m\u001b[43m \u001b[49m\u001b[43minputs\u001b[49m\u001b[38;5;241;43m=\u001b[39;49m\u001b[43minputs\u001b[49m\n\u001b[1;32m    524\u001b[0m \u001b[43m\u001b[49m\u001b[43m)\u001b[49m\n",
            "File \u001b[0;32m~/Documents/research/Home/python/computer-vision/py_env/lib/python3.11/site-packages/torch/autograd/__init__.py:266\u001b[0m, in \u001b[0;36mbackward\u001b[0;34m(tensors, grad_tensors, retain_graph, create_graph, grad_variables, inputs)\u001b[0m\n\u001b[1;32m    261\u001b[0m     retain_graph \u001b[38;5;241m=\u001b[39m create_graph\n\u001b[1;32m    263\u001b[0m \u001b[38;5;66;03m# The reason we repeat the same comment below is that\u001b[39;00m\n\u001b[1;32m    264\u001b[0m \u001b[38;5;66;03m# some Python versions print out the first line of a multi-line function\u001b[39;00m\n\u001b[1;32m    265\u001b[0m \u001b[38;5;66;03m# calls in the traceback and some print out the last line\u001b[39;00m\n\u001b[0;32m--> 266\u001b[0m \u001b[43mVariable\u001b[49m\u001b[38;5;241;43m.\u001b[39;49m\u001b[43m_execution_engine\u001b[49m\u001b[38;5;241;43m.\u001b[39;49m\u001b[43mrun_backward\u001b[49m\u001b[43m(\u001b[49m\u001b[43m  \u001b[49m\u001b[38;5;66;43;03m# Calls into the C++ engine to run the backward pass\u001b[39;49;00m\n\u001b[1;32m    267\u001b[0m \u001b[43m    \u001b[49m\u001b[43mtensors\u001b[49m\u001b[43m,\u001b[49m\n\u001b[1;32m    268\u001b[0m \u001b[43m    \u001b[49m\u001b[43mgrad_tensors_\u001b[49m\u001b[43m,\u001b[49m\n\u001b[1;32m    269\u001b[0m \u001b[43m    \u001b[49m\u001b[43mretain_graph\u001b[49m\u001b[43m,\u001b[49m\n\u001b[1;32m    270\u001b[0m \u001b[43m    \u001b[49m\u001b[43mcreate_graph\u001b[49m\u001b[43m,\u001b[49m\n\u001b[1;32m    271\u001b[0m \u001b[43m    \u001b[49m\u001b[43minputs\u001b[49m\u001b[43m,\u001b[49m\n\u001b[1;32m    272\u001b[0m \u001b[43m    \u001b[49m\u001b[43mallow_unreachable\u001b[49m\u001b[38;5;241;43m=\u001b[39;49m\u001b[38;5;28;43;01mTrue\u001b[39;49;00m\u001b[43m,\u001b[49m\n\u001b[1;32m    273\u001b[0m \u001b[43m    \u001b[49m\u001b[43maccumulate_grad\u001b[49m\u001b[38;5;241;43m=\u001b[39;49m\u001b[38;5;28;43;01mTrue\u001b[39;49;00m\u001b[43m,\u001b[49m\n\u001b[1;32m    274\u001b[0m \u001b[43m\u001b[49m\u001b[43m)\u001b[49m\n",
            "\u001b[0;31mKeyboardInterrupt\u001b[0m: "
          ]
        }
      ],
      "source": [
        "train_network(net, n_epochs=5)"
      ]
    },
    {
      "cell_type": "markdown",
      "id": "305157e1-2245-47d5-812d-215644430da9",
      "metadata": {
        "id": "305157e1-2245-47d5-812d-215644430da9"
      },
      "source": [
        "Visualizing Predictions\n",
        "-----------------------\n",
        "\n",
        "Unless you train the neural network for a long time, the loss will most likely not go to zero. However, it should still go down, which means it has learned some association between visual patterns and the category labels in the dataset. Let's try the model on some images in the test set and see what it predicts for them."
      ]
    },
    {
      "cell_type": "code",
      "execution_count": null,
      "id": "f05ba9d4-608b-4fac-b49f-b0fa12daeeab",
      "metadata": {
        "id": "f05ba9d4-608b-4fac-b49f-b0fa12daeeab"
      },
      "outputs": [],
      "source": [
        "dataiter = iter(testloader)\n",
        "images, labels = next(dataiter)\n",
        "\n",
        "net.to(device)\n",
        "predictions = net(images.to(device)).argmax(axis=1).cpu().detach()\n",
        "accuracy = (labels==predictions).double().mean()\n",
        "\n",
        "# print images\n",
        "imshow(torchvision.utils.make_grid(images))\n",
        "print('GroundTruth: ', '\\t'.join(f'{classes[labels[j]]:5s}' for j in range(4)))\n",
        "print('Predictions: ', '\\t'.join(f'{classes[predictions[j]]:5s}' for j in range(4)))\n",
        "print(f'Accuracy: {accuracy*100}%')"
      ]
    },
    {
      "cell_type": "markdown",
      "id": "bf859ae6-ad61-468f-a08e-341f573a4c99",
      "metadata": {
        "id": "bf859ae6-ad61-468f-a08e-341f573a4c99"
      },
      "source": [
        "In our implementation, the predictions are not always correct, but they are often reasonable. This is impressive considering we have barely trained the neural network at all.\n",
        "\n",
        "Let's calculate the accuracy on the full test set."
      ]
    },
    {
      "cell_type": "code",
      "execution_count": null,
      "id": "z-wrtPwLFxoD",
      "metadata": {
        "id": "z-wrtPwLFxoD"
      },
      "outputs": [],
      "source": [
        "dataiter = iter(testloader)\n",
        "\n",
        "running_accuracy = 0\n",
        "running_count = 0\n",
        "for images, labels in dataiter:\n",
        "  images = images.to(device)\n",
        "  predictions = net(images.to(device)).argmax(axis=1).cpu().detach()\n",
        "  accuracy = (labels==predictions).double().mean()\n",
        "\n",
        "  running_accuracy += accuracy\n",
        "  running_count += 1\n",
        "\n",
        "print(f'Accuracy: {running_accuracy/running_count*100:.2f}%')"
      ]
    },
    {
      "cell_type": "markdown",
      "id": "IkbTTQh-GMsJ",
      "metadata": {
        "id": "IkbTTQh-GMsJ"
      },
      "source": [
        "In our solution, we get 74% accuracy after training for about 10 minutes on the Colab GPU. Can you do better?"
      ]
    },
    {
      "cell_type": "markdown",
      "id": "Pgg9f07ea-WR",
      "metadata": {
        "id": "Pgg9f07ea-WR"
      },
      "source": [
        "# 2. Problem 2: Building ResNet"
      ]
    },
    {
      "cell_type": "markdown",
      "id": "b0a85af2-ccc8-4dc1-adde-9a83e6a69c1e",
      "metadata": {
        "id": "b0a85af2-ccc8-4dc1-adde-9a83e6a69c1e"
      },
      "source": [
        "Residual Network\n",
        "----------------\n",
        "\n",
        "Residual networks have become a standard architecture because they are able to efficiently scale to a large number of layers. While the state-of-the-art networks have thousands of layers, they would be too expensive to train in time for the homework deadline. Let's implement just a simple residual network.\n",
        "\n",
        "Implement a ResNet block which contains convolutional layers with a skip connection across them. Note that the dimensions of the original input and the output of the convolutional layers may not match up for addition. Hint: one way to address this is to introduce a linear transformation (like a 1x1 kernel convolution) to resize the input when necessary. Another would be to 0-pad the input to match dimensions for addition."
      ]
    },
    {
      "cell_type": "code",
      "execution_count": null,
      "id": "384f7579-1789-4303-bee8-a8678bf83c1e",
      "metadata": {
        "id": "384f7579-1789-4303-bee8-a8678bf83c1e"
      },
      "outputs": [],
      "source": [
        "class ResNetBlock(nn.Module):\n",
        "    def __init__(self, in_channels, out_channels, stride=1):\n",
        "        super().__init__()\n",
        "        # TODO: Initialize Two Convolutional Layers in the Residual Block\n",
        "\n",
        "\n",
        "        self.skip_connection = nn.Identity()\n",
        "        if stride != 1 or in_channels != out_channels:\n",
        "          # TODO: Use a Conv2d layer with kernel_size=1 to \"resize\" input\n",
        "          self.skip_connection = None\n",
        "\n",
        "    def forward(self, x):\n",
        "        identity_x = self.skip_connection(x)\n",
        "\n",
        "        # TODO: Implement Forward pass using 2 Conv Layers.\n",
        "        # The addition of the original input is already done\n",
        "\n",
        "        ##############################\n",
        "        assert x.shape == identity_x.shape\n",
        "        x = x + identity_x\n",
        "        return x"
      ]
    },
    {
      "cell_type": "markdown",
      "id": "yhLgqItzzjKd",
      "metadata": {
        "id": "yhLgqItzzjKd"
      },
      "source": [
        "\n",
        "In the code block below, complete the class for a residual network. (PyTorch has a residual network built in, but you should not use it. Instead, create a residual network using the building blocks introduced above.) We recommend the following architecture: Convolution, Maxpooling, ResNetBlock, ResNetBlock, flatten, linear, linear, linear. Be sure to use ReLU activations where necessary."
      ]
    },
    {
      "cell_type": "code",
      "execution_count": null,
      "id": "6TOzYmQ7xhev",
      "metadata": {
        "id": "6TOzYmQ7xhev"
      },
      "outputs": [],
      "source": [
        "class ResNet(nn.Module):\n",
        "    def __init__(self):\n",
        "        super().__init__()\n",
        "        # TODO: initialize network layers\n",
        "\n",
        "    def forward(self, x):\n",
        "        # TODO: implement the forward pass\n",
        "        return x\n",
        "\n",
        "res_net = ResNet()"
      ]
    },
    {
      "cell_type": "code",
      "execution_count": null,
      "id": "zj2sTvHCsvHz",
      "metadata": {
        "id": "zj2sTvHCsvHz"
      },
      "outputs": [],
      "source": [
        "criterion = nn.CrossEntropyLoss()\n",
        "optimizer = optim.Adam(res_net.parameters(), lr=0.0001)"
      ]
    },
    {
      "cell_type": "markdown",
      "id": "b7a2b9e2-beed-44b5-a606-8a3fb5e001d9",
      "metadata": {
        "id": "b7a2b9e2-beed-44b5-a606-8a3fb5e001d9"
      },
      "source": [
        "After you create the network, we can use the training loop from above in order to train it."
      ]
    },
    {
      "cell_type": "code",
      "execution_count": null,
      "id": "9df8b4af-01a1-41d1-aa3b-013cc02db777",
      "metadata": {
        "id": "9df8b4af-01a1-41d1-aa3b-013cc02db777"
      },
      "outputs": [],
      "source": [
        "res_net = train_network(res_net, n_epochs=5)"
      ]
    },
    {
      "cell_type": "markdown",
      "id": "937175d9-7c35-4715-9c78-d2f441291071",
      "metadata": {
        "id": "937175d9-7c35-4715-9c78-d2f441291071"
      },
      "source": [
        "Let's visualize some of the predictions from the trained network."
      ]
    },
    {
      "cell_type": "code",
      "execution_count": null,
      "id": "9bad6cdf-c4c7-4975-936d-40df5fc19073",
      "metadata": {
        "id": "9bad6cdf-c4c7-4975-936d-40df5fc19073"
      },
      "outputs": [],
      "source": [
        "dataiter = iter(testloader)\n",
        "images, labels = next(dataiter)\n",
        "\n",
        "res_net.to(device)\n",
        "predictions = res_net(images.to(device)).argmax(axis=1).cpu().detach()\n",
        "accuracy = (labels==predictions).double().mean()\n",
        "\n",
        "# print images\n",
        "imshow(torchvision.utils.make_grid(images))\n",
        "print('GroundTruth: ', '\\t'.join(f'{classes[labels[j]]:5s}' for j in range(4)))\n",
        "print('Predictions: ', '\\t'.join(f'{classes[predictions[j]]:5s}' for j in range(4)))\n",
        "print(f'Accuracy: {accuracy*100}%')"
      ]
    },
    {
      "cell_type": "markdown",
      "id": "gCeChOne3L0o",
      "metadata": {
        "id": "gCeChOne3L0o"
      },
      "source": [
        "Let's also calculate the accuracy on the full test set."
      ]
    },
    {
      "cell_type": "code",
      "execution_count": null,
      "id": "NzSIvCTp28UF",
      "metadata": {
        "id": "NzSIvCTp28UF"
      },
      "outputs": [],
      "source": [
        "dataiter = iter(testloader)\n",
        "\n",
        "running_accuracy = 0\n",
        "running_count = 0\n",
        "for images, labels in dataiter:\n",
        "  images = images.to(device)\n",
        "  predictions = res_net(images.to(device)).argmax(axis=1).cpu().detach()\n",
        "  accuracy = (labels==predictions).double().mean()\n",
        "\n",
        "  running_accuracy += accuracy\n",
        "  running_count += 1\n",
        "\n",
        "print(f'Accuracy: {running_accuracy/running_count*100:.2f}%')"
      ]
    },
    {
      "cell_type": "markdown",
      "id": "eKKBmrW4WgEu",
      "metadata": {
        "id": "eKKBmrW4WgEu"
      },
      "source": [
        "In our solution, we get 76% accuracy."
      ]
    }
  ],
  "metadata": {
    "accelerator": "GPU",
    "colab": {
      "provenance": []
    },
    "gpuClass": "standard",
    "kernelspec": {
      "display_name": "Python 3 (ipykernel)",
      "language": "python",
      "name": "python3"
    },
    "language_info": {
      "codemirror_mode": {
        "name": "ipython",
        "version": 3
      },
      "file_extension": ".py",
      "mimetype": "text/x-python",
      "name": "python",
      "nbconvert_exporter": "python",
      "pygments_lexer": "ipython3",
      "version": "3.11.7"
    }
  },
  "nbformat": 4,
  "nbformat_minor": 5
}
